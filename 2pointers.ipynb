{
 "cells": [
  {
   "cell_type": "code",
   "execution_count": 3,
   "metadata": {},
   "outputs": [],
   "source": [
    "# 2 pointers are for sorted arrays\n",
    "# find triplets"
   ]
  },
  {
   "cell_type": "code",
   "execution_count": 4,
   "metadata": {},
   "outputs": [
    {
     "name": "stdout",
     "output_type": "stream",
     "text": [
      "[1, 3]\n",
      "[0, 2]\n",
      "None\n"
     ]
    },
    {
     "data": {
      "text/plain": [
       "'\\nThe time complexity of the above algorithm will be O(N), where ‘N’ is the total number of elements in the given array.\\nThe algorithm runs in constant space O(1).\\n'"
      ]
     },
     "execution_count": 4,
     "metadata": {},
     "output_type": "execute_result"
    }
   ],
   "source": [
    "\"\"\"\n",
    "Given an array of sorted numbers and a target sum, find a pair in the array whose sum is equal to the given target.\n",
    "Write a function to return the indices of the two numbers (i.e. the pair) such that they add up to the given target.\n",
    "\n",
    "Input: [1, 2, 3, 4, 6], target=6\n",
    "Output: [1, 3]\n",
    "Explanation: The numbers at index 1 and 3 add up to 6: 2+4=6\n",
    "\"\"\"\n",
    "\n",
    "#[1, 2, 3, 4, 6]\n",
    "# 0  1  2  3  4\n",
    "\n",
    "def pair_with_targetsum(arr, target_sum):\n",
    "    left, right = 0, len(arr)-1 \n",
    "\n",
    "    while left < right:\n",
    "        curr_sum = arr[left] + arr[right]\n",
    "        if curr_sum == target_sum:\n",
    "            return [left, right]\n",
    "\n",
    "        elif curr_sum > target_sum:\n",
    "            right -= 1\n",
    "\n",
    "        else:\n",
    "            left += 1\n",
    "\n",
    "    return None\n",
    "\n",
    "print(pair_with_targetsum([1, 2, 3, 4, 6], 6))\n",
    "print(pair_with_targetsum([2, 5, 9, 11], 11))\n",
    "print(pair_with_targetsum([2, 3], 6))\n",
    "\n",
    "\n",
    "\"\"\"\n",
    "The time complexity of the above algorithm will be O(N), where ‘N’ is the total number of elements in the given array.\n",
    "The algorithm runs in constant space O(1).\n",
    "\"\"\"\n",
    "        "
   ]
  },
  {
   "cell_type": "code",
   "execution_count": 1,
   "metadata": {},
   "outputs": [
    {
     "name": "stdout",
     "output_type": "stream",
     "text": [
      "{}\n",
      "{1: 0}\n",
      "{1: 0, 2: 1}\n",
      "{1: 0, 2: 1, 3: 2}\n",
      "[1, 3]\n",
      "{}\n",
      "{2: 0}\n",
      "{2: 0, 5: 1}\n",
      "[0, 2]\n"
     ]
    }
   ],
   "source": [
    "# [3, 2, 4]    t = 6   [1, 2]\n",
    "# 6 \n",
    "\n",
    "# Another Approach\n",
    "def pair_with_targetsum(arr, target_sum):                                  \n",
    "  seen = {}  # to store numbers and their indices\n",
    "  for index, num in enumerate(arr):\n",
    "    diff = target_sum - num\n",
    "    #print(seen)\n",
    "    if diff in seen:\n",
    "      return [seen[diff], index]\n",
    "    else:\n",
    "      seen[num] = index\n",
    "\n",
    "\n",
    "\n",
    "def main():\n",
    "  print(pair_with_targetsum([1, 2, 3, 4, 6], 6))\n",
    "  print(pair_with_targetsum([2, 5, 9, 11], 11))\n",
    "\n",
    "\n",
    "main()\n",
    "\n",
    "# nums = {1 : 0}\n"
   ]
  },
  {
   "cell_type": "code",
   "execution_count": null,
   "metadata": {},
   "outputs": [],
   "source": []
  },
  {
   "cell_type": "code",
   "execution_count": 16,
   "metadata": {},
   "outputs": [
    {
     "name": "stdout",
     "output_type": "stream",
     "text": [
      "4\n",
      "2\n"
     ]
    }
   ],
   "source": [
    "\"\"\"\n",
    "Remove Duplicates\n",
    "Given an array of sorted numbers, remove all duplicates from it. You should not use any extra space; after removing the duplicates in-place return the length\n",
    "of the subarray that has no duplicate in it.\n",
    "Input: [2, 3, 3, 3, 6, 9, 9]\n",
    "Output: 4\n",
    "Explanation: The first four elements after removing the duplicates will be [2, 3, 6, 9].\n",
    "\"\"\"\n",
    "\n",
    "# Time, Space = 0(N), O(1)\n",
    "def remove_duplicates(arr):\n",
    "  # index of the next non-duplicate element\n",
    "  # places the next non-duplicate number\n",
    "  next_non_duplicate = 1\n",
    "\n",
    "  i = 0\n",
    "  while(i < len(arr)):\n",
    "    if arr[next_non_duplicate - 1] != arr[i]:           #the number b4 the next_non_duplicate number is already placed(sorted), so if that number is not equal to the \n",
    "      arr[next_non_duplicate] = arr[i]                  # current iteration number(arr[i]), then we make the arr[i] the next_non_duplicate number, and move the pointer foward\n",
    "      next_non_duplicate += 1                           # else if the number b4 next_non_dublicate is equal to the current iteration number(a[i]), then its a duplicate \n",
    "    i += 1                                              # and we move to the next element.\n",
    "\n",
    "  return next_non_duplicate\n",
    "\n",
    "\n",
    "def main():\n",
    "  print(remove_duplicates([2, 3, 3, 3, 6, 9, 9]))\n",
    "  print(remove_duplicates([2, 2, 2, 11]))\n",
    "\n",
    "\n",
    "main()"
   ]
  },
  {
   "cell_type": "code",
   "execution_count": 7,
   "metadata": {},
   "outputs": [
    {
     "name": "stdout",
     "output_type": "stream",
     "text": [
      "4\n",
      "2\n",
      "1\n"
     ]
    }
   ],
   "source": [
    "def remove_duplicates(arr):\n",
    "    return len(set(arr))\n",
    "\n",
    "print(remove_duplicates([2, 3, 3, 3, 6, 9, 9]))\n",
    "print(remove_duplicates([2, 2, 2, 11]))\n",
    "print(remove_duplicates([0]))"
   ]
  },
  {
   "cell_type": "code",
   "execution_count": 8,
   "metadata": {},
   "outputs": [
    {
     "name": "stdout",
     "output_type": "stream",
     "text": [
      "5\n",
      "0\n"
     ]
    }
   ],
   "source": [
    "\"\"\"\n",
    "121. Best Time to Buy and Sell Stock\n",
    "\n",
    "You are given an array prices where prices[i] is the price of a given stock on the ith day.\n",
    "You want to maximize your profit by choosing a single day to buy one stock and choosing a different day in the future to sell that stock.\n",
    "Return the maximum profit you can achieve from this transaction. If you cannot achieve any profit, return 0.\n",
    "Input: prices = [7,1,5,3,6,4]\n",
    "Output: 5\n",
    "Input: prices = [7,6,4,3,1]\n",
    "Output: 0\n",
    "\"\"\"\n",
    "def maxProfit(prices):\n",
    "    left = 0 #Buy\n",
    "    right = 1 #Sell\n",
    "    max_profit = 0\n",
    "    while right < len(prices):\n",
    "        currentProfit = prices[right] - prices[left] #our current Profit\n",
    "        if prices[left] < prices[right]:\n",
    "            max_profit =max(currentProfit,max_profit)\n",
    "        else:\n",
    "            left += 1\n",
    "        right += 1\n",
    "    return max_profit\n",
    "\n",
    "\n",
    "print(maxProfit([7,1,5,3,6,4]))\n",
    "print(maxProfit([7,6,4,3,1]))\n",
    "\n",
    "# Time = O(N) , Space = O(1)"
   ]
  },
  {
   "cell_type": "code",
   "execution_count": null,
   "metadata": {},
   "outputs": [],
   "source": []
  },
  {
   "cell_type": "code",
   "execution_count": 9,
   "metadata": {},
   "outputs": [
    {
     "name": "stdout",
     "output_type": "stream",
     "text": [
      "Array new length: 4\n",
      "Array new length: 2\n"
     ]
    }
   ],
   "source": [
    "\"\"\"\n",
    "Problem 1: Given an unsorted array of numbers and a target ‘key’, remove all instances of ‘key’ in-place and return the new length of the array.\n",
    "Input: [3, 2, 3, 6, 3, 10, 9, 3], Key=3\n",
    "Output: 4\n",
    "Explanation: The first four elements after removing every 'Key' will be [2, 6, 10, 9].\n",
    "\"\"\"\n",
    "\n",
    "#Time, Space = 0(N), O(1)\n",
    "def remove_element(arr, key):\n",
    "  nextElement = 0  # index of the next element which is not 'key'\n",
    "  for i in range(len(arr)):\n",
    "    if arr[i] != key:\n",
    "      arr[nextElement] = arr[i]\n",
    "      nextElement += 1\n",
    "\n",
    "  return nextElement\n",
    "\n",
    "\n",
    "def main():\n",
    "  print(\"Array new length: \" +\n",
    "        str(remove_element([3, 2, 3, 6, 3, 10, 9, 3], 3)))\n",
    "  print(\"Array new length: \" +\n",
    "        str(remove_element([2, 11, 2, 2, 1], 2)))\n",
    "\n",
    "\n",
    "main()\n"
   ]
  },
  {
   "cell_type": "code",
   "execution_count": 1,
   "metadata": {},
   "outputs": [
    {
     "name": "stdout",
     "output_type": "stream",
     "text": [
      "Squares: [0, 1, 4, 4, 9]\n",
      "Squares: [0, 1, 1, 4, 9]\n"
     ]
    }
   ],
   "source": [
    "# left and right pointers\n",
    "# set output array and index\n",
    "# if the right num is bigger than the left we add the right to the ouput arr\n",
    "# then we move right and k down by one \n",
    "def make_squares(nums):\n",
    "    left = 0\n",
    "    n = len(nums)\n",
    "    right = n - 1\n",
    "\n",
    "    squared = [0] * n\n",
    "    k = n - 1\n",
    "\n",
    "    while left < right:\n",
    "        if abs(nums[left]) < abs(nums[right]):\n",
    "            squared[k] = nums[right] ** 2\n",
    "            right -= 1\n",
    "            k -= 1\n",
    "        else:\n",
    "            squared[k] = nums[left] ** 2\n",
    "            left += 1\n",
    "            k -= 1\n",
    "\n",
    "    return squared\n",
    "\n",
    "\n",
    "\n",
    "\n",
    "\n",
    "\n",
    "\n",
    "def main():\n",
    "\n",
    "  print(\"Squares: \" + str(make_squares([-2, -1, 0, 2, 3])))\n",
    "  print(\"Squares: \" + str(make_squares([-3, -1, 0, 1, 2])))\n",
    "\n",
    "\n",
    "main()"
   ]
  },
  {
   "cell_type": "code",
   "execution_count": 10,
   "metadata": {},
   "outputs": [
    {
     "name": "stdout",
     "output_type": "stream",
     "text": [
      "[[-3, 1, 2], [-2, 0, 2], [-2, 1, 1], [-1, 0, 1]]\n",
      "[[-5, 2, 3], [-2, -1, 3]]\n",
      "[[-1, -1, 2], [-1, 0, 1]]\n",
      "[]\n",
      "[]\n"
     ]
    },
    {
     "data": {
      "text/plain": [
       "'\\nsort the list, result = []\\nset the left, mid and right pointers\\nset the sum of the pointers to the curr_sum\\nif curr_sum < 0, mid + 1\\nelif > 0 , right + 1\\nelse , check if already in result and add to result, increase mid and decrease right \\nreturn the result\\n\\nComplexity: time complexity is O(n log n + n^2) = O(n^2), because we sorted our data, and then we have loop with n iterations, inside each of them we use 2 pointers \\napproach with O(n) complexity (inside while mid < right: each time distance between our pointers reduced by at least 1). Space complexity is potentially O(n^2), \\n'"
      ]
     },
     "execution_count": 10,
     "metadata": {},
     "output_type": "execute_result"
    }
   ],
   "source": [
    "\"\"\"\n",
    "Triplet Sum to Zero\n",
    "Given an array of unsorted numbers, find all unique triplets in it that add up to zero.\n",
    "Input: [-3, 0, 1, 2, -1, 1, -2]\n",
    "Output: [-3, 1, 2], [-2, 0, 2], [-2, 1, 1], [-1, 0, 1]\n",
    "Explanation: There are four unique triplets whose sum is equal to zero.\n",
    "\"\"\"\n",
    "\n",
    "def search_triplets(nums):\n",
    "    nums.sort()\n",
    "    result = []\n",
    "    for left in range(len(nums)): #leftmost pointer in the triplet\n",
    "        if left > 0 and nums[left] == nums[left - 1]: # this step makes sure that we do not have any duplicates in our result output\n",
    "            continue \n",
    "        mid = left + 1 \n",
    "        right = len(nums) - 1\n",
    "        while mid < right:\n",
    "            curr_sum = nums[left] + nums[mid] + nums[right]\n",
    "            if curr_sum < 0:\n",
    "                mid += 1 \n",
    "            elif curr_sum > 0:\n",
    "                right -= 1\n",
    "            else:\n",
    "                if curr_sum == 0 and [nums[left], nums[mid], nums[right]] not in result:\n",
    "                    result.append([nums[left], nums[mid], nums[right]])\n",
    "                    mid += 1\n",
    "                    right -= 1\n",
    "    return result\n",
    "\n",
    "\n",
    "def main():\n",
    "  print(search_triplets([-3, 0, 1, 2, -1, 1, -2]))\n",
    "  print(search_triplets([-5, 2, -1, -2, 3]))\n",
    "  print(search_triplets([-1,0,1,2,-1,-4]))\n",
    "  print(search_triplets([0]))\n",
    "  print(search_triplets([]))\n",
    "\n",
    "\n",
    "main()\n",
    "\n",
    "\"\"\"\n",
    "sort the list, result = []\n",
    "set the left, mid and right pointers\n",
    "set the sum of the pointers to the curr_sum\n",
    "if curr_sum < 0, mid + 1\n",
    "elif > 0 , right + 1\n",
    "else , check if already in result and add to result, increase mid and decrease right \n",
    "return the result\n",
    "\n",
    "Complexity: time complexity is O(n log n + n^2) = O(n^2), because we sorted our data, and then we have loop with n iterations, inside each of them we use 2 pointers \n",
    "approach with O(n) complexity (inside while mid < right: each time distance between our pointers reduced by at least 1). Space complexity is potentially O(n^2), \n",
    "\"\"\""
   ]
  },
  {
   "cell_type": "code",
   "execution_count": null,
   "metadata": {},
   "outputs": [],
   "source": []
  },
  {
   "cell_type": "code",
   "execution_count": 11,
   "metadata": {},
   "outputs": [
    {
     "name": "stdout",
     "output_type": "stream",
     "text": [
      "1\n",
      "0\n",
      "3\n"
     ]
    }
   ],
   "source": [
    "\"\"\"\n",
    "Triplet Sum Close to Target\n",
    "Given an array of unsorted numbers and a target number, find a triplet in the array whose sum is as close to the target number as possible, \n",
    "return the sum of thetriplet. If there are more than one such triplet, return the sum of the triplet with the smallest sum.\n",
    "Input: [-2, 0, 1, 2], target=2\n",
    "Output: 1\n",
    "Explanation: The triplet [-2, 1, 2] has the closest sum to the target.\n",
    "\"\"\"\n",
    "\n",
    "# set left, right and mid pointers\n",
    "# if curr_sum = r + l + m\n",
    "# \n",
    "import math\n",
    "\n",
    "def triplet_sum_close_to_target(arr, target_sum):\n",
    "    arr.sort()\n",
    "    smallest_difference = math.inf\n",
    "    for left in range(len(arr)):\n",
    "        mid = left + 1\n",
    "        right = len(arr) - 1\n",
    "\n",
    "        while mid < right:\n",
    "            curr_sum = arr[left] + arr[mid] + arr[right]\n",
    "            curr_diff = abs(target_sum - curr_sum)\n",
    "            if curr_diff == 0:\n",
    "                return curr_sum\n",
    "\n",
    "            if curr_diff < smallest_difference:\n",
    "                smallest_difference = curr_diff\n",
    "\n",
    "            if curr_sum < target_sum:\n",
    "                mid += 1\n",
    "            else:\n",
    "                right -= 1\n",
    "\n",
    "    return target_sum - smallest_difference\n",
    "\n",
    "def main():\n",
    "  print(triplet_sum_close_to_target([-2, 0, 1, 2], 2))\n",
    "  print(triplet_sum_close_to_target([-3, -1, 1, 2], 1))\n",
    "  print(triplet_sum_close_to_target([1, 0, 1, 1], 100))\n",
    "\n",
    "\n",
    "main()\n",
    "\n",
    "# Sorting the array will take O(N∗logN). Overall, the function will take O(N∗logN+N2), which is asymptotically equivalent to O(N^2)\n",
    "# The above algorithm’s space complexity will be O(N), which is required for sorting."
   ]
  },
  {
   "cell_type": "code",
   "execution_count": 18,
   "metadata": {},
   "outputs": [
    {
     "name": "stdout",
     "output_type": "stream",
     "text": [
      "2\n",
      "4\n"
     ]
    }
   ],
   "source": [
    "\"\"\"\n",
    "Triplets with Smaller Sum\n",
    "\n",
    "Given an array arr of unsorted numbers and a target sum, count all triplets in it such that arr[i] + arr[j] + arr[k] < target \n",
    "where i, j, and k are three different indices. Write a function to return the count of such triplets.\n",
    "Input: [-1, 0, 2, 3], target=3 \n",
    "Output: 2\n",
    "Explanation: There are two triplets whose sum is less than the target: [-1, 0, 3], [-1, 0, 2]\n",
    "\"\"\"\n",
    "\n",
    "def triplet_with_smaller_sum(arr, target):\n",
    "  arr.sort()\n",
    "  count = 0\n",
    "  for left in range(len(arr)):\n",
    "    mid = left + 1\n",
    "    right = len(arr) - 1\n",
    "\n",
    "    while mid < right:\n",
    "      curr_sum = arr[left] + arr[mid] + arr[right]\n",
    "\n",
    "      if curr_sum >= target:\n",
    "          right -= 1\n",
    "\n",
    "      else:\n",
    "          count += (right - mid)                           # since arr[right] >= arr[left], therefore, we can replace arr[right] by any number between\n",
    "          mid += 1                                          # left and right to get a sum less than the target sum\n",
    "\n",
    "  return count\n",
    "\n",
    "\n",
    "def main():\n",
    "  print(triplet_with_smaller_sum([-1, 0, 2, 3], 3))\n",
    "  print(triplet_with_smaller_sum([-1, 4, 2, 1, 3], 5))\n",
    "\n",
    "main()\n",
    "\n",
    "# Time = O(N^2)\n",
    "# Space = O(N) because its needed for sorted"
   ]
  },
  {
   "cell_type": "code",
   "execution_count": 2,
   "metadata": {},
   "outputs": [
    {
     "data": {
      "text/plain": [
       "8"
      ]
     },
     "execution_count": 2,
     "metadata": {},
     "output_type": "execute_result"
    }
   ],
   "source": [
    "\"\"\" Subarray with produck less than k\"\"\"\n",
    "def numSubarrayProductLessThanK(nums, k):\n",
    "    count = 0 \n",
    "    product = 1\n",
    "    left = 0\n",
    "    for right in range(len(nums)):\n",
    "        product *= nums[right]\n",
    "        while product >= k and left <= right:\n",
    "            product /= nums[left]\n",
    "            left += 1\n",
    "        count += (right - left) + 1\n",
    "    return count\n",
    "\n",
    "numSubarrayProductLessThanK([10, 5, 2, 6], 100)"
   ]
  },
  {
   "cell_type": "code",
   "execution_count": 3,
   "metadata": {},
   "outputs": [
    {
     "name": "stdout",
     "output_type": "stream",
     "text": [
      "[[2], [5], [2, 5], [3], [5, 3], [10]]\n",
      "[[8], [2], [8, 2], [6], [2, 6], [5], [6, 5]]\n"
     ]
    }
   ],
   "source": [
    "\"\"\" Subarray with product less than k\"\"\"\n",
    "from collections import deque\n",
    "\n",
    "\n",
    "def find_subarrays(arr, target):\n",
    "  result = []\n",
    "  product = 1\n",
    "  left = 0\n",
    "  for right in range(len(arr)):\n",
    "    product *= arr[right]\n",
    "    while (product >= target and left <= right):\n",
    "      product = product / arr[left]\n",
    "      left += 1\n",
    "    # since the product of all numbers from left to right is less than the target therefore,\n",
    "    # all subarrays from left to right will have a product less than the target too; to avoid\n",
    "    # duplicates, we will start with a subarray containing only arr[right] and then extend it\n",
    "    temp_list = deque()\n",
    "    for i in range(right, left-1, -1):\n",
    "      temp_list.appendleft(arr[i])\n",
    "      result.append(list(temp_list))\n",
    "  return result\n",
    "\n",
    "\n",
    "def main():\n",
    "  print(find_subarrays([2, 5, 3, 10], 30))\n",
    "  print(find_subarrays([8, 2, 6, 5], 50))\n",
    "\n",
    "\n",
    "main()\n"
   ]
  },
  {
   "cell_type": "code",
   "execution_count": 13,
   "metadata": {},
   "outputs": [
    {
     "name": "stdout",
     "output_type": "stream",
     "text": [
      "[0, 0, 1, 1, 2]\n",
      "[0, 0, 1, 2, 2, 2]\n"
     ]
    }
   ],
   "source": [
    "\"\"\"\n",
    "Given an array containing 0s, 1s and 2s, sort the array in-place. You should treat numbers of the array as objects, \n",
    "hence, we can’t count 0s, 1s, and 2s to recreate the array.\n",
    "Input: [1, 0, 2, 1, 0]\n",
    "Output: [0, 0, 1, 1, 2] \n",
    "\"\"\"\n",
    "\n",
    "\"\"\"\n",
    "Time = O(N), Space = O(1)\n",
    "When we encounter a 0 we will move it to the left and when we encounter a 2 we will move it to the right. The 1's will end up in the middle.\n",
    "[1, 0, 2, 1, 0]\n",
    " 0  1  2  3  4\n",
    "\"\"\"\n",
    "def dutch_flag_sort(arr):\n",
    "    first = 0\n",
    "    last = len(arr) - 1\n",
    "\n",
    "    i = 0\n",
    "\n",
    "    while i <= last:\n",
    "        if arr[i] == 0:\n",
    "            arr[i], arr[first] = arr[first], arr[i]\n",
    "            first += 1\n",
    "            i += 1\n",
    "\n",
    "        elif arr[i] == 1:\n",
    "            i += 1\n",
    "\n",
    "        else:\n",
    "            arr[i], arr[last] = arr[last], arr[i]\n",
    "            last -= 1\n",
    "\n",
    "\n",
    "def main():\n",
    "  arr = [1, 0, 2, 1, 0]\n",
    "  dutch_flag_sort(arr)\n",
    "  print(arr)\n",
    "\n",
    "  arr = [2, 2, 0, 1, 2, 0]\n",
    "  dutch_flag_sort(arr)\n",
    "  print(arr)\n",
    "\n",
    "\n",
    "main()\n"
   ]
  },
  {
   "cell_type": "code",
   "execution_count": 8,
   "metadata": {},
   "outputs": [
    {
     "name": "stdout",
     "output_type": "stream",
     "text": [
      "[[-2, -1, 1, 2], [-2, 0, 0, 2], [-1, 0, 0, 1]]\n"
     ]
    }
   ],
   "source": [
    "def fourSum(nums, target):\n",
    "    nums.sort()\n",
    "    n, ans = len(nums), []\n",
    "    for i in range(n):\n",
    "        for j in range(i + 1, n):\n",
    "            goal = target - nums[i] - nums[j]\n",
    "            beg, end = j + 1, n - 1\n",
    "\n",
    "            while beg < end:\n",
    "                if nums[beg] + nums[end] < goal:\n",
    "                    beg += 1\n",
    "                elif nums[beg] + nums[end] > goal:\n",
    "                    end -= 1\n",
    "                else:\n",
    "                    ans.append([nums[i], nums[j], nums[beg], nums[end]])\n",
    "                    beg += 1\n",
    "                    end -= 1\n",
    "\n",
    "    return ans\n",
    "\n",
    "\n",
    "print(fourSum([1,0,-1,0,-2,2], 0))"
   ]
  },
  {
   "cell_type": "code",
   "execution_count": 14,
   "metadata": {},
   "outputs": [
    {
     "name": "stdout",
     "output_type": "stream",
     "text": [
      "Squares: [0, 1, 4, 4, 9]\n",
      "Squares: [0, 1, 1, 4, 9]\n"
     ]
    }
   ],
   "source": [
    "\"\"\" Squaring a Sorted Array \n",
    "Given a sorted array, create a new array containing squares of all the numbers of the input array in the sorted order.\n",
    "Input: [-2, -1, 0, 2, 3]\n",
    "Output: [0, 1, 4, 4, 9]\n",
    "\"\"\"\n",
    "\n",
    "def make_squares(nums):\n",
    "  left = 0\n",
    "  n = len(nums)\n",
    "  right = n - 1\n",
    "\n",
    "  squared = [0] * n\n",
    "  k = n - 1\n",
    "\n",
    "  while left <= right:\n",
    "      if abs(nums[left]) < abs(nums[right]):\n",
    "          squared[k] = nums[right] ** 2\n",
    "          right -= 1\n",
    "          \n",
    "      else:\n",
    "          squared[k] = nums[left] ** 2\n",
    "          left += 1\n",
    "      k -= 1\n",
    "      \n",
    "  return squared\n",
    "\n",
    "def main():\n",
    "\n",
    "  print(\"Squares: \" + str(make_squares([-2, -1, 0, 2, 3])))\n",
    "  print(\"Squares: \" + str(make_squares([-3, -1, 0, 1, 2])))\n",
    "\n",
    "\n",
    "main()\n"
   ]
  },
  {
   "cell_type": "code",
   "execution_count": 1,
   "metadata": {},
   "outputs": [
    {
     "name": "stdout",
     "output_type": "stream",
     "text": [
      "Is palindrome :  True\n",
      "Is palindrome :  True\n",
      "Is palindrome :  False\n"
     ]
    }
   ],
   "source": [
    "\"\"\" Valid Palindrome\n",
    "Determine whether a string is a palindrome (ignoring non-alphanumeric characters and case).\"\"\"\n",
    "\n",
    "def is_palindrome(s):\n",
    "      left, right = 0, len(s) - 1\n",
    "\n",
    "      while left < right:\n",
    "            while left < right and not s[left].isalnum():    #skip only left if char is not alphanumeric\n",
    "                  left += 1\n",
    "            while left < right and not s[right].isalnum():   #skip right if char is not alphanumeric\n",
    "                  right -= 1\n",
    "            if s[left].lower() != s[right].lower():          #check if chars are the same\n",
    "                  return False\n",
    "            left += 1                                        #move both left and right pointers\n",
    "            right -= 1\n",
    "      return True\n",
    "\n",
    "#Driver code\n",
    "inputs = [\"Do geese see God\",\"Was it a car or a cat I saw?\",\"A brown fox jumping over\"]\n",
    "for i in range(len(inputs)):\n",
    "      print(\"Is palindrome : \",is_palindrome(inputs[i]))"
   ]
  },
  {
   "cell_type": "code",
   "execution_count": 3,
   "metadata": {},
   "outputs": [
    {
     "name": "stdout",
     "output_type": "stream",
     "text": [
      "[-1, -3, -4, 5, 2]\n",
      "[-1, 0, 3, 300]\n",
      "[-2, 0, 0, 0]\n",
      "[-1, -6, 20, 4, 5, -9, 10]\n"
     ]
    }
   ],
   "source": [
    "\"\"\" Rearrange Positives and Negatives\n",
    "\n",
    "Implement a function rearrange(lst) which rearranges the elements such that all the negative elements appear on \n",
    "the left and positive elements appear at the right of the list. Note that it is not necessary to maintain the sorted\n",
    " order of the input list.(0 must be place on the right side)\n",
    " \n",
    " Input: [10,-1,20,4,5,-9,-6]\n",
    " Output:[-1,-9,-6,10,20,4,5]\"\"\"\n",
    "\n",
    "\n",
    " # set left and right pointers\n",
    "# go through elements, if number is less than 0 move to the left and increase left\n",
    "# else move to the right and decrease right\n",
    "\n",
    "def rearrange(lst):\n",
    "    left, right = 0, len(lst) - 1\n",
    "    i = 0\n",
    "\n",
    "    while left < right:\n",
    "        if lst[i] < 0:\n",
    "            lst[left], lst[i] = lst[i], lst[left]\n",
    "            left += 1\n",
    "            i += 1\n",
    "        else:\n",
    "            lst[right], lst[i] = lst[i], lst[right]\n",
    "            right -= 1\n",
    "            i += 1\n",
    "\n",
    "    return lst\n",
    "\n",
    "print(rearrange([-1, 2, -3, -4, 5]))\n",
    "print(rearrange([300, -1, 3, 0]))\n",
    "print(rearrange([0, 0, 0, -2]))\n",
    "print(rearrange([10, -1, 20, 4, 5, -9, -6]))\n"
   ]
  },
  {
   "cell_type": "code",
   "execution_count": null,
   "metadata": {},
   "outputs": [],
   "source": []
  }
 ],
 "metadata": {
  "interpreter": {
   "hash": "7e1998ff7f8aa20ada591c520b972326324e5ea05489af9e422744c7c09f6dad"
  },
  "kernelspec": {
   "display_name": "Python 3.10.1 64-bit",
   "language": "python",
   "name": "python3"
  },
  "language_info": {
   "codemirror_mode": {
    "name": "ipython",
    "version": 3
   },
   "file_extension": ".py",
   "mimetype": "text/x-python",
   "name": "python",
   "nbconvert_exporter": "python",
   "pygments_lexer": "ipython3",
   "version": "3.10.1"
  },
  "orig_nbformat": 4
 },
 "nbformat": 4,
 "nbformat_minor": 2
}
