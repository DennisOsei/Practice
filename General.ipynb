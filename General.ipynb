{
 "cells": [
  {
   "cell_type": "code",
   "execution_count": 3,
   "metadata": {},
   "outputs": [
    {
     "name": "stdout",
     "output_type": "stream",
     "text": [
      "5 is a prime number\n"
     ]
    }
   ],
   "source": [
    "num = int(input(\"Enter a number\"))\n",
    "prime = True\n",
    "if num > 1:\n",
    "    for i in range(2, num):\n",
    "        if (num % i) == 0:\n",
    "            prime = False\n",
    "            break\n",
    "\n",
    "if prime:\n",
    "    print(f\"{num} is a prime number\")\n",
    "else:\n",
    "    print(f\"{num} not a prime number\")\n"
   ]
  },
  {
   "cell_type": "code",
   "execution_count": null,
   "metadata": {},
   "outputs": [
    {
     "name": "stdout",
     "output_type": "stream",
     "text": [
      "[2, 3, 5, 7, 11, 13, 17, 19, 23, 29, 31, 37, 41, 43, 47]\n"
     ]
    }
   ],
   "source": [
    "# Python program to display all the prime numbers within an interval\n",
    "prime = []\n",
    "for num in range(50):\n",
    "   # all prime numbers are greater than 1\n",
    "   if num > 1:\n",
    "       for i in range(2, num):\n",
    "           if (num % i) == 0:\n",
    "               break\n",
    "       else:\n",
    "           prime.append(num)\n",
    "\n",
    "print(prime)"
   ]
  },
  {
   "cell_type": "code",
   "execution_count": null,
   "metadata": {},
   "outputs": [],
   "source": []
  },
  {
   "cell_type": "code",
   "execution_count": null,
   "metadata": {},
   "outputs": [
    {
     "name": "stdout",
     "output_type": "stream",
     "text": [
      "True\n",
      "False\n"
     ]
    }
   ],
   "source": [
    "\"\"\" Permutation in String\n",
    "Given two strings s1 and s2, return true if s2 contains a permutation of s1, or false otherwise.\n",
    "In other words, return true if one of s1's permutations is the substring of s2.\n",
    "\n",
    "Input: s1 = \"ab\", s2 = \"eidbaooo\"\n",
    "Output: true\n",
    "Explanation: s2 contains one permutation of s1 (\"ba\").\n",
    "\n",
    "Input: s1 = \"ab\", s2 = \"eidboaoo\"\n",
    "Output: false\n",
    "\"\"\"\n",
    "\n",
    "from collections import Counter\n",
    "\n",
    "def checkInclusion(s1: str, s2: str) -> bool:\n",
    "    d1 = Counter(s1)\n",
    "    k = len(s1)\n",
    "    for i in range(len(s2)):  # ---- O(n)\n",
    "        sub = s2[i:i+k]  # ------ O(k)\n",
    "        d2 = Counter(sub) # --- O(k)\n",
    "        if d1 == d2:\n",
    "            return True\n",
    "    return False\n",
    "\n",
    "print(checkInclusion(\"ab\", \"aedbaoo\"))\n",
    "print(checkInclusion(\"ab\", \"eidboaoo\"))"
   ]
  },
  {
   "cell_type": "code",
   "execution_count": null,
   "metadata": {},
   "outputs": [],
   "source": []
  },
  {
   "cell_type": "code",
   "execution_count": null,
   "metadata": {},
   "outputs": [
    {
     "name": "stdout",
     "output_type": "stream",
     "text": [
      "2\n",
      "0\n"
     ]
    }
   ],
   "source": [
    "\"\"\"Find Mininum in List\"\"\"\n",
    "# arr = [9,2,3,6]\n",
    "# set a min\n",
    "\n",
    "\n",
    "def find_minimum(arr):\n",
    "    min_so_far = arr[0]\n",
    "    for num in arr:\n",
    "        if num < min_so_far:\n",
    "            min_so_far = num\n",
    "\n",
    "    return min_so_far\n",
    "\n",
    "\n",
    "print(find_minimum([9, 2, 3, 6]))\n",
    "print(find_minimum([3, 0, 1]))\n"
   ]
  },
  {
   "cell_type": "code",
   "execution_count": null,
   "metadata": {},
   "outputs": [],
   "source": []
  },
  {
   "cell_type": "code",
   "execution_count": null,
   "metadata": {},
   "outputs": [
    {
     "name": "stdout",
     "output_type": "stream",
     "text": [
      "6\n",
      "6\n"
     ]
    }
   ],
   "source": [
    "\"\"\" Find Second Maximum Value in a List\"\"\"\n",
    "#[9,2,3,6]\n",
    "#[2, 3, 6, 9]\n",
    "\n",
    "\n",
    "def find_second_maximum(lst):\n",
    "    lst.sort()\n",
    "    if len(lst) >= 2:\n",
    "        return lst[-2]\n",
    "    else:\n",
    "        return None\n",
    "\n",
    "\n",
    "print(find_second_maximum([9, 2, 3, 6]))\n",
    "\n",
    "def find_second_maximum(lst):\n",
    "    first_max = float('-inf')\n",
    "    second_max = float('-inf')\n",
    "    # find first max\n",
    "    for item in lst:\n",
    "        if item > first_max:\n",
    "            first_max = item\n",
    "    # find max relative to first max\n",
    "    for item in lst:\n",
    "        if item != first_max and item > second_max:\n",
    "            second_max = item\n",
    "    return second_max\n",
    "\n",
    "\n",
    "print(find_second_maximum([9, 2, 3, 6]))\n",
    "\n"
   ]
  },
  {
   "cell_type": "code",
   "execution_count": null,
   "metadata": {},
   "outputs": [
    {
     "name": "stdout",
     "output_type": "stream",
     "text": [
      "[11, 13, 15, 16]\n"
     ]
    }
   ],
   "source": [
    "\"\"\"Remove duplicate elements from list\"\"\"\n",
    "\n",
    "# [11, 13, 15, 16, 13, 15, 16, 11] \n",
    "\n",
    "def remove_duplicate(lst):\n",
    "    result = []\n",
    "    for element in lst:\n",
    "        if element not in result:\n",
    "            result.append(element)\n",
    "\n",
    "    return result\n",
    "\n",
    "\n",
    "print(remove_duplicate([11, 13, 15, 16, 13, 15, 16, 11] ))"
   ]
  },
  {
   "cell_type": "code",
   "execution_count": null,
   "metadata": {},
   "outputs": [
    {
     "name": "stdout",
     "output_type": "stream",
     "text": [
      "[16, 11, 13, 15]\n"
     ]
    }
   ],
   "source": [
    "\"\"\"Remove duplicate elements from list\"\"\"\n",
    "\n",
    "# [11, 13, 15, 16, 13, 15, 16, 11] \n",
    "\n",
    "def remove_duplicate(lst):\n",
    "    return list(set(lst))\n",
    "\n",
    "\n",
    "print(remove_duplicate([11, 13, 15, 16, 13, 15, 16, 11] ))"
   ]
  },
  {
   "cell_type": "code",
   "execution_count": null,
   "metadata": {},
   "outputs": [],
   "source": []
  },
  {
   "cell_type": "code",
   "execution_count": null,
   "metadata": {},
   "outputs": [
    {
     "name": "stdout",
     "output_type": "stream",
     "text": [
      "1\n",
      "2\n",
      "Fizz\n",
      "4\n",
      "Buzz\n",
      "Fizz\n",
      "7\n",
      "8\n",
      "Fizz\n",
      "Buzz\n",
      "11\n",
      "Fizz\n",
      "13\n",
      "14\n",
      "FizzBuzz\n",
      "16\n",
      "17\n",
      "Fizz\n",
      "19\n",
      "Buzz\n",
      "Fizz\n",
      "22\n",
      "23\n",
      "Fizz\n",
      "Buzz\n",
      "26\n",
      "Fizz\n",
      "28\n",
      "29\n",
      "FizzBuzz\n",
      "31\n",
      "32\n",
      "Fizz\n",
      "34\n",
      "Buzz\n",
      "Fizz\n",
      "37\n",
      "38\n",
      "Fizz\n",
      "Buzz\n",
      "41\n",
      "Fizz\n",
      "43\n",
      "44\n",
      "FizzBuzz\n",
      "46\n",
      "47\n",
      "Fizz\n",
      "49\n",
      "Buzz\n",
      "Fizz\n",
      "52\n",
      "53\n",
      "Fizz\n",
      "Buzz\n",
      "56\n",
      "Fizz\n",
      "58\n",
      "59\n",
      "FizzBuzz\n",
      "61\n",
      "62\n",
      "Fizz\n",
      "64\n",
      "Buzz\n",
      "Fizz\n",
      "67\n",
      "68\n",
      "Fizz\n",
      "Buzz\n",
      "71\n",
      "Fizz\n",
      "73\n",
      "74\n",
      "FizzBuzz\n",
      "76\n",
      "77\n",
      "Fizz\n",
      "79\n",
      "Buzz\n",
      "Fizz\n",
      "82\n",
      "83\n",
      "Fizz\n",
      "Buzz\n",
      "86\n",
      "Fizz\n",
      "88\n",
      "89\n",
      "FizzBuzz\n",
      "91\n",
      "92\n",
      "Fizz\n",
      "94\n",
      "Buzz\n",
      "Fizz\n",
      "97\n",
      "98\n",
      "Fizz\n",
      "Buzz\n"
     ]
    }
   ],
   "source": [
    "\"\"\" FizzBuzz\n",
    "\n",
    "Print all of the numbers from 1 to 100. However, for any number divisible by three, print the word “Fizz,” for any\n",
    " number divisible by five, print the word “Buzz,” and for any number divisible by both three and five, print the \n",
    " word “FizzBuzz.”\"\"\"\n",
    "\n",
    "for num in range(1, 101):\n",
    "    if num % 5 == 0 and num % 3 == 0:\n",
    "        print(\"FizzBuzz\")\n",
    "    elif num % 3 == 0:\n",
    "        print(\"Fizz\")\n",
    "    elif num % 5 == 0:\n",
    "        print(\"Buzz\")\n",
    "    else:\n",
    "        print(num)"
   ]
  },
  {
   "cell_type": "code",
   "execution_count": null,
   "metadata": {},
   "outputs": [
    {
     "data": {
      "text/plain": [
       "['FizzBuzz']"
      ]
     },
     "execution_count": 1,
     "metadata": {},
     "output_type": "execute_result"
    }
   ],
   "source": [
    "def fizzbuzz(n):\n",
    " # we will store the resulting numbers within an array\n",
    "    result = []\n",
    "    # loop from 1 to n\n",
    "    for i in range(1, n + 1):\n",
    "        add = ''\n",
    "    # check if there is a remainder when dividing by 3, if not\n",
    "    # then we know this number is divisible by 3\n",
    "    if i % 3 == 0:\n",
    "        add += 'Fizz'\n",
    "    # check if divisible by 5\n",
    "    if i % 5 == 0:\n",
    "        add += 'Buzz'\n",
    "    # not divisible by either 3 or 5\n",
    "        if add == '':\n",
    "            result.append(i)\n",
    "        else:\n",
    "            result.append(add)\n",
    "    return result\n",
    "\n",
    "fizzbuzz(15)"
   ]
  },
  {
   "cell_type": "code",
   "execution_count": null,
   "metadata": {},
   "outputs": [
    {
     "name": "stdout",
     "output_type": "stream",
     "text": [
      "1 2 Fizz 4 Buzz Fizz 7 8\n"
     ]
    }
   ],
   "source": [
    "def FizzBuzz(num):\n",
    "  arr = []\n",
    "  for i in range(1, int(num)+1):\n",
    "    if i % 3 == 0 and i % 5 == 0:\n",
    "      arr.append('FizzBuzz')\n",
    "    elif i % 3 == 0:\n",
    "      arr.append('Fizz')\n",
    "    elif i % 5 == 0:\n",
    "      arr.append('Buzz')\n",
    "    else:\n",
    "      arr.append(str(i))\n",
    "  return ' '.join(arr)\n",
    "\n",
    "# keep this function call here \n",
    "print(FizzBuzz(8))"
   ]
  },
  {
   "cell_type": "code",
   "execution_count": null,
   "metadata": {},
   "outputs": [
    {
     "name": "stdout",
     "output_type": "stream",
     "text": [
      "85121215 45\n",
      "10110-1\n"
     ]
    }
   ],
   "source": [
    "\"\"\" Have the function NumberEncoding(str) take the str parameter and encode the message according to the \n",
    "following rule: encode every letter into its corresponding numbered position in the alphabet. Symbols and \n",
    "spaces will also be used in the input. For example: if str is \"af5c a#!\" then your program should return 1653 1#!. \"\"\"\n",
    "\n",
    "def NumberEncoding(s):\n",
    "    alphabets = \"abcdefghijklmnopqrstuvwxyz\"\n",
    "    out = \"\"\n",
    "    for i in s:\n",
    "        if i.isalpha():\n",
    "            out += str(alphabets.index(i) + 1)\n",
    "        else:\n",
    "            out += i\n",
    "    return out\n",
    "\n",
    "# keep this function call here \n",
    "print(NumberEncoding(\"hello 45\"))\n",
    "print(NumberEncoding(\"jaj-a\"))"
   ]
  },
  {
   "cell_type": "code",
   "execution_count": null,
   "metadata": {},
   "outputs": [
    {
     "name": "stdout",
     "output_type": "stream",
     "text": [
      "ll rld\n"
     ]
    }
   ],
   "source": [
    "\"\"\" Remove Set of Characters from a String\n",
    "\n",
    " An array of characters and a string B is given. Write a function to return the string B with \n",
    " all the characters from the array removed.\"\"\"\n",
    "\n",
    "# store characters of arr in a dictionary\n",
    "# loop through the string and check if the character exists in\n",
    "# the hash table, if so, do not add it to the result string\n",
    "def removeChars(arr, string):\n",
    "\n",
    "    remove = {}\n",
    "    for char in arr:\n",
    "        remove[char] = True\n",
    "\n",
    "    result = ''\n",
    "    for char in string:\n",
    "        if char not in remove:\n",
    "            result += char\n",
    "    return result\n",
    "\n",
    "print(removeChars(['h', 'e', 'w', 'o'], 'hello world'))# => \"ll rld\""
   ]
  },
  {
   "cell_type": "code",
   "execution_count": null,
   "metadata": {},
   "outputs": [],
   "source": []
  },
  {
   "cell_type": "code",
   "execution_count": null,
   "metadata": {},
   "outputs": [
    {
     "name": "stdout",
     "output_type": "stream",
     "text": [
      "24\n"
     ]
    }
   ],
   "source": [
    "\"\"\" First Factorial\n",
    "\n",
    "Have the function FirstFactorial(num) take the num parameter being passed and return the factorial of it.\n",
    "For example: if num = 4, then your program should return (4 * 3 * 2 * 1) = 24. \"\"\"\n",
    "\n",
    "def FirstFactorial(num):\n",
    "  output = 1\n",
    "  for i in range(1, num+1):\n",
    "    output *= i\n",
    "  return output\n",
    "\n",
    "print(FirstFactorial(4))"
   ]
  },
  {
   "cell_type": "code",
   "execution_count": null,
   "metadata": {},
   "outputs": [],
   "source": []
  },
  {
   "cell_type": "code",
   "execution_count": null,
   "metadata": {},
   "outputs": [
    {
     "name": "stdout",
     "output_type": "stream",
     "text": [
      "love\n",
      "time\n"
     ]
    }
   ],
   "source": [
    "\"\"\" Longest Word\n",
    "\n",
    "Have the function LongestWord(sen) take the sen parameter being passed and return the longest word in the string.\n",
    "If there are two or more words that are the same length, return the first word from the string with that length. \n",
    "Ignore punctuation and assume sen will not be empty. Words may also contain numbers, \n",
    "for example \"Hello world123 567\"\n",
    " \n",
    "Input: \"fun&!! time\"\n",
    "Output: time \n",
    "\n",
    "Input: \"I love dogs\"\n",
    "Output: love  \n",
    "\"\"\"\n",
    "\n",
    "def LongestWord(sen):\n",
    "    new_word = \"\"\n",
    "    for char in sen:\n",
    "      if char.isalpha() or char.isnumeric():\n",
    "        new_word += char\n",
    "      else :\n",
    "        new_word += \" \"\n",
    "    return max(new_word.split(),key=len)\n",
    "\n",
    "print(LongestWord(\"I love dogs\"))\n",
    "print(LongestWord(\"fun&!! time\"))"
   ]
  },
  {
   "cell_type": "code",
   "execution_count": 5,
   "metadata": {},
   "outputs": [
    {
     "name": "stdout",
     "output_type": "stream",
     "text": [
      "4w3a1d1e6x1y3w\n"
     ]
    }
   ],
   "source": [
    "def solve(s):\n",
    "    assert len(s) > 0\n",
    "    ans = []\n",
    "    c = 1\n",
    "    for i in range(1, len(s)):\n",
    "        if s[i - 1] == s[i]:\n",
    "            c += 1\n",
    "        else:\n",
    "            ans += str(c) + s[i - 1]\n",
    "            c = 1\n",
    "    ans += str(c) + s[-1]\n",
    "    return \"\".join(ans)\n",
    "\n",
    "print(solve(\"wwwwaaadexxxxxxywww\"))"
   ]
  },
  {
   "cell_type": "code",
   "execution_count": 17,
   "metadata": {},
   "outputs": [
    {
     "data": {
      "text/plain": [
       "'4w3a1d1e6x1y3w'"
      ]
     },
     "execution_count": 17,
     "metadata": {},
     "output_type": "execute_result"
    }
   ],
   "source": [
    "def encode(s):\n",
    " \n",
    "    encoding = \"\" # stores output string\n",
    " \n",
    "    i = 0\n",
    "    while i < len(s):\n",
    "        # count occurrences of character at index `i`\n",
    "        count = 1\n",
    " \n",
    "        while i + 1 < len(s) and s[i] == s[i + 1]:\n",
    "            count = count + 1\n",
    "            i = i + 1\n",
    " \n",
    "        # append current character and its count to the result\n",
    "        encoding += str(count) + s[i]\n",
    "        i = i + 1\n",
    " \n",
    "    return encoding\n",
    "\n",
    "\n",
    "encode(\"wwwwaaadexxxxxxywww\")"
   ]
  },
  {
   "cell_type": "code",
   "execution_count": 14,
   "metadata": {},
   "outputs": [
    {
     "name": "stdout",
     "output_type": "stream",
     "text": [
      "w4a3d1e1x6y1w3"
     ]
    }
   ],
   "source": [
    "\"\"\" \n",
    "    Pick the first character from the source string. \n",
    "    Append the picked character to the destination string. \n",
    "    Count the number of subsequent occurrences of the picked character and append the count to the destination string. \n",
    "    Pick the next character and repeat steps 2, 3 and 4 if the end of the string is NOT reached.\n",
    "\n",
    "\"\"\"\n",
    "\n",
    "def printRLE(st):\n",
    " \n",
    "    n = len(st)\n",
    "    i = 0\n",
    "    while i < n- 1:\n",
    " \n",
    "        # Count occurrences of current character\n",
    "        count = 1\n",
    "        while (i < n - 1 and st[i] == st[i + 1]):\n",
    "            count += 1\n",
    "            i += 1\n",
    "        i += 1\n",
    " \n",
    "        # Print character and its count\n",
    "        print(st[i - 1] + str(count), end = \"\")\n",
    " \n",
    "\n",
    "st = \"wwwwaaadexxxxxxywww\"\n",
    "printRLE(st)"
   ]
  },
  {
   "cell_type": "code",
   "execution_count": 55,
   "metadata": {},
   "outputs": [
    {
     "name": "stdout",
     "output_type": "stream",
     "text": [
      "a3d1e1w4x6\n"
     ]
    }
   ],
   "source": [
    "#Sorted\n",
    "\n",
    "from collections import OrderedDict\n",
    "def runLengthEncoding(st):\n",
    "\n",
    "    st = \"\".join(sorted(st))\n",
    " \n",
    "    # Generate ordered dictionary of all lower\n",
    "    # case alphabets, its output will be\n",
    "    # dict = {'w':0, 'a':0, 'd':0, 'e':0, 'x':0}\n",
    "    d=OrderedDict.fromkeys(st, 0)\n",
    " \n",
    "    # Now iterate through input string to calculate\n",
    "    # frequency of each character, its output will be\n",
    "    # dict = {'w':4,'a':3,'d':1,'e':1,'x':6}\n",
    "    for ch in st:\n",
    "        d[ch] += 1\n",
    " \n",
    "    # now iterate through dictionary to make\n",
    "    # output string from (key,value) pairs\n",
    "    output = ''\n",
    "    for key,value in d.items():\n",
    "        output = output + key + str(value)\n",
    "    return output\n",
    " \n",
    "string=\"wwwwaaadexxxxxx\"\n",
    "print(runLengthEncoding(string))"
   ]
  },
  {
   "cell_type": "code",
   "execution_count": 58,
   "metadata": {},
   "outputs": [
    {
     "name": "stdout",
     "output_type": "stream",
     "text": [
      "w4a3d1e1x6\n"
     ]
    }
   ],
   "source": [
    "# Not sorted\n",
    "from collections import OrderedDict\n",
    "def runLengthEncoding(st):\n",
    " \n",
    "    # Generate ordered dictionary of all lower\n",
    "    # case alphabets, its output will be\n",
    "    # dict = {'w':0, 'a':0, 'd':0, 'e':0, 'x':0}\n",
    "    d=OrderedDict.fromkeys(st, 0)\n",
    " \n",
    "    # Now iterate through input string to calculate\n",
    "    # frequency of each character, its output will be\n",
    "    # dict = {'w':4,'a':3,'d':1,'e':1,'x':6}\n",
    "    for ch in st:\n",
    "        d[ch] += 1\n",
    " \n",
    "    # now iterate through dictionary to make\n",
    "    # output string from (key,value) pairs\n",
    "    output = ''\n",
    "    for key,value in d.items():\n",
    "        output = output + key + str(value)\n",
    "    return output\n",
    " \n",
    "string=\"wwwwaaadexxxxxx\"\n",
    "print(runLengthEncoding(string))"
   ]
  },
  {
   "cell_type": "code",
   "execution_count": null,
   "metadata": {},
   "outputs": [
    {
     "name": "stdout",
     "output_type": "stream",
     "text": [
      "BBBBAAADDCBB\n"
     ]
    }
   ],
   "source": [
    "class Solution:\n",
    "   def solve(self, s):\n",
    "      output = \"\"\n",
    "      num=\"\"\n",
    "      for i in s:\n",
    "         if i.isalpha():\n",
    "            output+=i*int(num)\n",
    "            num=\"\"\n",
    "         else:\n",
    "            num+=i\n",
    "      return output\n",
    "ob = Solution()\n",
    "print(ob.solve(\"4B3A2D1C2B\"))    "
   ]
  },
  {
   "cell_type": "code",
   "execution_count": 63,
   "metadata": {},
   "outputs": [
    {
     "name": "stdout",
     "output_type": "stream",
     "text": [
      "9339\n",
      "45254\n"
     ]
    }
   ],
   "source": [
    "#Reverse and Add given number repeatedly to get a Palindrome number\n",
    "\n",
    "# Python Program to implement reverse and add function\n",
    "\n",
    "# Iterative function to reverse digits of num\n",
    "def reversedigits(num):\n",
    "\trev_num = 0\n",
    "\twhile (num > 0):\n",
    "\t\trev_num = rev_num * 10 + num % 10\n",
    "\t\tnum = num//10\n",
    "\treturn rev_num\n",
    "\n",
    "# Function to check whether\n",
    "# the number is palindrome or not\n",
    "def isPalindrome(num):\n",
    "\treturn (reversedigits(num) == num)\n",
    "\n",
    "# Reverse and Add Function\n",
    "def ReverseandAdd(num):\n",
    "\trev_num = 0\n",
    "\twhile (num <= 4294967295):\n",
    "\t\t# Reversing the digits of the number\n",
    "\t\trev_num = reversedigits(num)\n",
    "\n",
    "\t\t# Adding the reversed number\n",
    "\t\t# with the original\n",
    "\t\tnum = num + rev_num\n",
    "\n",
    "\t\t# Checking whether the number\n",
    "\t\t# is palindrome or not\n",
    "\t\tif(isPalindrome(num)):\n",
    "\t\t\tprint (num)\n",
    "\t\t\tbreak\n",
    "\t\telse:\n",
    "\t\t\tif (num > 4294967295):\n",
    "\t\t\t\tprint (\"No palindrome exist\")\n",
    "\n",
    "# Driver Code\n",
    "ReverseandAdd(195)\n",
    "ReverseandAdd(265)\n"
   ]
  },
  {
   "cell_type": "code",
   "execution_count": 73,
   "metadata": {},
   "outputs": [
    {
     "name": "stdout",
     "output_type": "stream",
     "text": [
      "9339\n",
      "45254\n"
     ]
    }
   ],
   "source": [
    "#Reverse and Add given number repeatedly to get a Palindrome number\n",
    "\n",
    "def isPalindrome(n):\n",
    "    n = str(n)\n",
    "    n2 = n[::-1]\n",
    "    while n != n2:\n",
    "        n2 = int(n) + int(n2)\n",
    "        n2 = str(n2)\n",
    "        n = n2[::-1]\n",
    "    else:\n",
    "        return n2\n",
    "\n",
    "print(isPalindrome(195))\n",
    "print(isPalindrome(265))"
   ]
  },
  {
   "cell_type": "code",
   "execution_count": 76,
   "metadata": {},
   "outputs": [
    {
     "name": "stdout",
     "output_type": "stream",
     "text": [
      "0\n",
      "2\n",
      "-1\n"
     ]
    }
   ],
   "source": [
    "from collections import defaultdict\n",
    "\n",
    "def firstUniqChar(string):\n",
    "        d = {}\n",
    "        for letter in string:\n",
    "            if letter not in d:\n",
    "                  d[letter] = 1\n",
    "            else:\n",
    "                  d[letter] += 1\n",
    "\n",
    "#{l:1, e:3}\n",
    "        for i in range(len(string)):\n",
    "            if d[string[i]] == 1:\n",
    "                  return i\n",
    "\n",
    "        return -1\n",
    "\n",
    "print(firstUniqChar(\"leetcode\"))\n",
    "print(firstUniqChar(\"loveleetcode\"))\n",
    "print(firstUniqChar(\"aabb\"))\n",
    "                \n"
   ]
  },
  {
   "cell_type": "code",
   "execution_count": null,
   "metadata": {},
   "outputs": [],
   "source": []
  }
 ],
 "metadata": {
  "kernelspec": {
   "display_name": "Python 3.10.1 64-bit",
   "language": "python",
   "name": "python3"
  },
  "language_info": {
   "codemirror_mode": {
    "name": "ipython",
    "version": 3
   },
   "file_extension": ".py",
   "mimetype": "text/x-python",
   "name": "python",
   "nbconvert_exporter": "python",
   "pygments_lexer": "ipython3",
   "version": "3.10.1"
  },
  "orig_nbformat": 4,
  "vscode": {
   "interpreter": {
    "hash": "7e1998ff7f8aa20ada591c520b972326324e5ea05489af9e422744c7c09f6dad"
   }
  }
 },
 "nbformat": 4,
 "nbformat_minor": 2
}
