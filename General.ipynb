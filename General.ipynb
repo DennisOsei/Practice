{
 "cells": [
  {
   "cell_type": "code",
   "execution_count": 2,
   "metadata": {},
   "outputs": [
    {
     "name": "stdout",
     "output_type": "stream",
     "text": [
      "50 not a prime number\n"
     ]
    }
   ],
   "source": [
    "num = int(input(\"Enter a number\"))\n",
    "prime = True\n",
    "if num > 1:\n",
    "    for i in range(2, num):\n",
    "        if (num % i) == 0:\n",
    "            prime = False\n",
    "            break\n",
    "\n",
    "if prime:\n",
    "    print(f\"{num} is a prime number\")\n",
    "else:\n",
    "    print(f\"{num} not a prime number\")\n"
   ]
  },
  {
   "cell_type": "code",
   "execution_count": 9,
   "metadata": {},
   "outputs": [
    {
     "name": "stdout",
     "output_type": "stream",
     "text": [
      "[2, 3, 5, 7, 11, 13, 17, 19, 23, 29, 31, 37, 41, 43, 47]\n"
     ]
    }
   ],
   "source": [
    "# Python program to display all the prime numbers within an interval\n",
    "prime = []\n",
    "for num in range(50):\n",
    "   # all prime numbers are greater than 1\n",
    "   if num > 1:\n",
    "       for i in range(2, num):\n",
    "           if (num % i) == 0:\n",
    "               break\n",
    "       else:\n",
    "           prime.append(num)\n",
    "\n",
    "print(prime)"
   ]
  },
  {
   "cell_type": "code",
   "execution_count": null,
   "metadata": {},
   "outputs": [],
   "source": []
  },
  {
   "cell_type": "code",
   "execution_count": 12,
   "metadata": {},
   "outputs": [
    {
     "name": "stdout",
     "output_type": "stream",
     "text": [
      "True\n",
      "False\n"
     ]
    }
   ],
   "source": [
    "\"\"\" Permutation in String\n",
    "Given two strings s1 and s2, return true if s2 contains a permutation of s1, or false otherwise.\n",
    "In other words, return true if one of s1's permutations is the substring of s2.\n",
    "\n",
    "Input: s1 = \"ab\", s2 = \"eidbaooo\"\n",
    "Output: true\n",
    "Explanation: s2 contains one permutation of s1 (\"ba\").\n",
    "\n",
    "Input: s1 = \"ab\", s2 = \"eidboaoo\"\n",
    "Output: false\n",
    "\"\"\"\n",
    "\n",
    "from collections import Counter\n",
    "\n",
    "def checkInclusion(s1: str, s2: str) -> bool:\n",
    "    d1 = Counter(s1)\n",
    "    k = len(s1)\n",
    "    for i in range(len(s2)):  # ---- O(n)\n",
    "        sub = s2[i:i+k]  # ------ O(k)\n",
    "        d2 = Counter(sub) # --- O(k)\n",
    "        if d1 == d2:\n",
    "            return True\n",
    "    return False\n",
    "\n",
    "print(checkInclusion(\"ab\", \"aedbaoo\"))\n",
    "print(checkInclusion(\"ab\", \"eidboaoo\"))"
   ]
  },
  {
   "cell_type": "code",
   "execution_count": null,
   "metadata": {},
   "outputs": [],
   "source": []
  },
  {
   "cell_type": "code",
   "execution_count": 1,
   "metadata": {},
   "outputs": [
    {
     "name": "stdout",
     "output_type": "stream",
     "text": [
      "2\n",
      "0\n"
     ]
    }
   ],
   "source": [
    "\"\"\"Find Mininum in List\"\"\"\n",
    "# arr = [9,2,3,6]\n",
    "# set a min\n",
    "\n",
    "\n",
    "def find_minimum(arr):\n",
    "    min_so_far = arr[0]\n",
    "    for num in arr:\n",
    "        if num < min_so_far:\n",
    "            min_so_far = num\n",
    "\n",
    "    return min_so_far\n",
    "\n",
    "\n",
    "print(find_minimum([9, 2, 3, 6]))\n",
    "print(find_minimum([3, 0, 1]))\n"
   ]
  },
  {
   "cell_type": "code",
   "execution_count": null,
   "metadata": {},
   "outputs": [],
   "source": []
  },
  {
   "cell_type": "code",
   "execution_count": 4,
   "metadata": {},
   "outputs": [
    {
     "name": "stdout",
     "output_type": "stream",
     "text": [
      "6\n",
      "6\n"
     ]
    }
   ],
   "source": [
    "\"\"\" Find Second Maximum Value in a List\"\"\"\n",
    "#[9,2,3,6]\n",
    "#[2, 3, 6, 9]\n",
    "\n",
    "\n",
    "def find_second_maximum(lst):\n",
    "    lst.sort()\n",
    "    if len(lst) >= 2:\n",
    "        return lst[-2]\n",
    "    else:\n",
    "        return None\n",
    "\n",
    "\n",
    "print(find_second_maximum([9, 2, 3, 6]))\n",
    "\n",
    "def find_second_maximum(lst):\n",
    "    first_max = float('-inf')\n",
    "    second_max = float('-inf')\n",
    "    # find first max\n",
    "    for item in lst:\n",
    "        if item > first_max:\n",
    "            first_max = item\n",
    "    # find max relative to first max\n",
    "    for item in lst:\n",
    "        if item != first_max and item > second_max:\n",
    "            second_max = item\n",
    "    return second_max\n",
    "\n",
    "\n",
    "print(find_second_maximum([9, 2, 3, 6]))\n",
    "\n"
   ]
  },
  {
   "cell_type": "code",
   "execution_count": null,
   "metadata": {},
   "outputs": [],
   "source": []
  }
 ],
 "metadata": {
  "kernelspec": {
   "display_name": "Python 3.10.1 64-bit",
   "language": "python",
   "name": "python3"
  },
  "language_info": {
   "codemirror_mode": {
    "name": "ipython",
    "version": 3
   },
   "file_extension": ".py",
   "mimetype": "text/x-python",
   "name": "python",
   "nbconvert_exporter": "python",
   "pygments_lexer": "ipython3",
   "version": "3.10.1"
  },
  "orig_nbformat": 4,
  "vscode": {
   "interpreter": {
    "hash": "7e1998ff7f8aa20ada591c520b972326324e5ea05489af9e422744c7c09f6dad"
   }
  }
 },
 "nbformat": 4,
 "nbformat_minor": 2
}
