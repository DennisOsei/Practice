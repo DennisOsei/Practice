{
 "cells": [
  {
   "cell_type": "code",
   "execution_count": 4,
   "metadata": {},
   "outputs": [
    {
     "name": "stdout",
     "output_type": "stream",
     "text": [
      "Merged intervals: [1, 5][7, 9]\n",
      "Merged intervals: [2, 4][5, 9]\n",
      "Merged intervals: [1, 6]\n"
     ]
    }
   ],
   "source": [
    "\"\"\" Merge Intervals\n",
    "Given a list of intervals, merge all the overlapping intervals to produce \n",
    "a list that has only mutually exclusive intervals.\"\"\"\n",
    "\n",
    "# sort intervals by start point\n",
    "# set start and end points of intervals\n",
    "# set next interval with for loop\n",
    "# check if intervals overlap, set new end if they do\n",
    "# else add the previous interval and reset:\n",
    "  # mergedIntervals.append(Interval(start, end))\n",
    "  #start = interval.start\n",
    "  #end = interval.end\n",
    "\n",
    "\n",
    "\n",
    "from __future__ import print_function\n",
    "\n",
    "\n",
    "class Interval:\n",
    "  def __init__(self, start, end):\n",
    "    self.start = start\n",
    "    self.end = end\n",
    "\n",
    "  def print_interval(self):\n",
    "    print(\"[\" + str(self.start) + \", \" + str(self.end) + \"]\", end='')\n",
    "\n",
    "\n",
    "def merge(intervals):\n",
    "  if len(intervals) < 2:\n",
    "    return intervals\n",
    "  mergedIntervals = []\n",
    "  intervals.sort(key=lambda x: x.start)\n",
    "\n",
    "  start = intervals[0].start\n",
    "  end = intervals[0].end\n",
    "\n",
    "  for i in range(1, len(intervals)):\n",
    "    interval = intervals[i]\n",
    "    if interval.start <= end:\n",
    "        end = max(interval.end, end)\n",
    "    else:\n",
    "        mergedIntervals.append(Interval(start, end))\n",
    "        start = interval.start\n",
    "        end = interval.end\n",
    "\n",
    "  mergedIntervals.append(Interval(start, end))\n",
    "  return mergedIntervals\n",
    "\n",
    "\n",
    "\n",
    "\n",
    "\n",
    "def main():\n",
    "  print(\"Merged intervals: \", end='')\n",
    "  for i in merge([Interval(1, 4), Interval(2, 5), Interval(7, 9)]):\n",
    "    i.print_interval()\n",
    "  print()\n",
    "\n",
    "  print(\"Merged intervals: \", end='')\n",
    "  for i in merge([Interval(6, 7), Interval(2, 4), Interval(5, 9)]):\n",
    "    i.print_interval()\n",
    "  print()\n",
    "\n",
    "  print(\"Merged intervals: \", end='')\n",
    "  for i in merge([Interval(1, 4), Interval(2, 6), Interval(3, 5)]):\n",
    "    i.print_interval()\n",
    "  print()\n",
    "\n",
    "main()"
   ]
  },
  {
   "cell_type": "code",
   "execution_count": 5,
   "metadata": {},
   "outputs": [],
   "source": [
    "\"\"\" Leetcode\"\"\"\n",
    "class Solution:\n",
    "    def merge(self, intervals):\n",
    "        intervals.sort(key = lambda pair : pair[0])\n",
    "        output = [intervals[0]]\n",
    "        \n",
    "        for start, end in intervals:\n",
    "            lastEnd = output[-1][1]\n",
    "            \n",
    "            if start <= lastEnd: \n",
    "                # merge\n",
    "                output[-1][1] = max(lastEnd, end)\n",
    "            else:\n",
    "                output.append([start, end])\n",
    "        return output"
   ]
  },
  {
   "cell_type": "code",
   "execution_count": null,
   "metadata": {},
   "outputs": [],
   "source": []
  },
  {
   "cell_type": "code",
   "execution_count": 6,
   "metadata": {},
   "outputs": [
    {
     "name": "stdout",
     "output_type": "stream",
     "text": [
      "Intervals after inserting the new interval: [[1, 3], [4, 7], [8, 12]]\n",
      "Intervals after inserting the new interval: [[1, 3], [4, 12]]\n",
      "Intervals after inserting the new interval: [[1, 4], [5, 7]]\n"
     ]
    }
   ],
   "source": [
    "\"\"\" Insert Intervals\n",
    "Given a list of non-overlapping intervals sorted by their start time, insert a given interval at the correct\n",
    "position and merge all necessary intervals to produce a list that has only mutually exclusive intervals.\n",
    "\"\"\"\n",
    "# set i, start, end = 0, 0, 1\n",
    "# skip (and add to output) all intervals that come before the \"new_interval\"\n",
    "# #merge all intervals that overlap with the new_interval\n",
    "# insert the new_interval\n",
    "# add allthe remaining intervals to the output\n",
    "\n",
    "\n",
    "def insert(intervals, new_interval):\n",
    "  mergedIntervals = []\n",
    "  i, start, end = 0, 0, 1\n",
    "\n",
    "  while i < len(intervals) and intervals[i][end] < new_interval[start]:\n",
    "    mergedIntervals.append(intervals[i])\n",
    "    i += 1\n",
    "\n",
    "  while i < len(intervals) and intervals[i][start] <= new_interval[end]:\n",
    "    new_interval[start] = min(intervals[i][start], new_interval[start])\n",
    "    new_interval[end] = max(intervals[i][end], new_interval[end])\n",
    "    i += 1\n",
    "\n",
    "  mergedIntervals.append(new_interval)\n",
    "\n",
    "  while i < len(intervals):\n",
    "    mergedIntervals.append(intervals[i])\n",
    "    i += 1\n",
    "\n",
    "  return mergedIntervals\n",
    "\n",
    "\n",
    "def main():\n",
    "  print(\"Intervals after inserting the new interval: \" + str(insert([[1, 3], [5, 7], [8, 12]], [4, 6])))\n",
    "  print(\"Intervals after inserting the new interval: \" + str(insert([[1, 3], [5, 7], [8, 12]], [4, 10])))\n",
    "  print(\"Intervals after inserting the new interval: \" + str(insert([[2, 3], [5, 7]], [1, 4])))\n",
    "\n",
    "\n",
    "main()\n"
   ]
  },
  {
   "cell_type": "code",
   "execution_count": null,
   "metadata": {},
   "outputs": [],
   "source": []
  },
  {
   "cell_type": "code",
   "execution_count": 7,
   "metadata": {},
   "outputs": [
    {
     "name": "stdout",
     "output_type": "stream",
     "text": [
      "Can attend all appointments: False\n",
      "Can attend all appointments: True\n",
      "Can attend all appointments: False\n"
     ]
    }
   ],
   "source": [
    "\"\"\" Conflicting appointments\"\"\"\n",
    "# sort by startpoint\n",
    "# set start, end = 0, 1\n",
    "# if the current interval's start is less than the prev interval end, then there are conflicting appointments\n",
    "\n",
    "def can_attend_all_appointments(intervals):\n",
    "  intervals.sort(key=lambda x: x[0])\n",
    "  start, end = 0, 1\n",
    "\n",
    "  for i in range(1, len(intervals)):\n",
    "    if intervals[i][start] < intervals[i - 1][end]:\n",
    "      return False\n",
    "  return True\n",
    "\n",
    "def main():\n",
    "  print(\"Can attend all appointments: \" + str(can_attend_all_appointments([[1, 4], [2, 5], [7, 9]])))\n",
    "  print(\"Can attend all appointments: \" + str(can_attend_all_appointments([[6, 7], [2, 4], [8, 12]])))\n",
    "  print(\"Can attend all appointments: \" + str(can_attend_all_appointments([[4, 5], [2, 3], [3, 6]])))\n",
    "\n",
    "\n",
    "main()\n"
   ]
  },
  {
   "cell_type": "code",
   "execution_count": null,
   "metadata": {},
   "outputs": [],
   "source": []
  }
 ],
 "metadata": {
  "kernelspec": {
   "display_name": "Python 3.10.1 64-bit",
   "language": "python",
   "name": "python3"
  },
  "language_info": {
   "codemirror_mode": {
    "name": "ipython",
    "version": 3
   },
   "file_extension": ".py",
   "mimetype": "text/x-python",
   "name": "python",
   "nbconvert_exporter": "python",
   "pygments_lexer": "ipython3",
   "version": "3.10.1"
  },
  "orig_nbformat": 4,
  "vscode": {
   "interpreter": {
    "hash": "7e1998ff7f8aa20ada591c520b972326324e5ea05489af9e422744c7c09f6dad"
   }
  }
 },
 "nbformat": 4,
 "nbformat_minor": 2
}
