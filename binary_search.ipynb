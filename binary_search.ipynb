{
 "cells": [
  {
   "cell_type": "code",
   "execution_count": 12,
   "metadata": {},
   "outputs": [],
   "source": [
    "# Binary search is for sorted arrays, Time complexity is O(log n), Space = 0(1)\n",
    "# Get the midpoint of the list\n",
    "# if the target is greater than the midpoint, we check the right part of the list and discard the left\n",
    "# else we discard the left and look through the right\n"
   ]
  },
  {
   "cell_type": "code",
   "execution_count": 27,
   "metadata": {},
   "outputs": [
    {
     "name": "stdout",
     "output_type": "stream",
     "text": [
      "3\n",
      "0\n",
      "6\n",
      "None\n"
     ]
    }
   ],
   "source": [
    "# [1, 10, 19, 28, 37, 46, 55]\n",
    "#  0  1   2   3   4    5  6\n",
    "#  f                      l\n",
    "\n",
    "\n",
    "def basic_binary_search(arr, target):\n",
    "    first = 0 \n",
    "    last = len(arr) - 1\n",
    "\n",
    "    while first <= last:                      #if arr is [5], we still want to check that value\n",
    "        midpoint = (first + last) // 2\n",
    "        if arr[midpoint] == target:\n",
    "            return midpoint\n",
    "\n",
    "        elif target > arr[midpoint]:\n",
    "            first = midpoint + 1\n",
    "\n",
    "        else:\n",
    "            last = midpoint - 1\n",
    "\n",
    "    return None\n",
    "\n",
    "test_list = [1, 10, 19, 28, 37, 46, 55]\n",
    "\n",
    "print(basic_binary_search(test_list, 28)) \n",
    "print(basic_binary_search(test_list, 1)) \n",
    "print(basic_binary_search(test_list, 55)) \n",
    "print(basic_binary_search(test_list, 0)) "
   ]
  },
  {
   "cell_type": "code",
   "execution_count": 29,
   "metadata": {},
   "outputs": [
    {
     "name": "stdout",
     "output_type": "stream",
     "text": [
      "True\n",
      "True\n",
      "True\n",
      "False\n"
     ]
    }
   ],
   "source": [
    "def recursive_binary_search(arr, target):\n",
    "    if len(arr) == 0:\n",
    "        return False\n",
    "    else:\n",
    "        midpoint = (len(arr)) // 2\n",
    "        if arr[midpoint] == target:\n",
    "            return True\n",
    "        else:\n",
    "            if target > arr[midpoint]:\n",
    "                return recursive_binary_search(arr[midpoint+1:], target)\n",
    "            else:\n",
    "                return recursive_binary_search(arr[:midpoint], target)\n",
    "\n",
    "\n",
    "print(recursive_binary_search(test_list, 28))\n",
    "print(recursive_binary_search(test_list, 55))\n",
    "print(recursive_binary_search(test_list, 1))\n",
    "print(recursive_binary_search(test_list, 0))"
   ]
  },
  {
   "cell_type": "code",
   "execution_count": 35,
   "metadata": {},
   "outputs": [
    {
     "name": "stdout",
     "output_type": "stream",
     "text": [
      "2\n",
      "4\n",
      "0\n",
      "2\n",
      "None\n"
     ]
    }
   ],
   "source": [
    "\"\"\"\n",
    "Order-agnostic Binary Search \n",
    "Given a sorted array of numbers, find if a given number ‘key’ is present in the array. Though we know that the array is sorted, we don’t know if it’s sorted in \n",
    "ascending or descending order. You should assume that the array can have duplicates.\n",
    "Write a function to return the index of the ‘key’ if it is present in the array, otherwise return None.\n",
    "Input: [4, 6, 10], key = 10\n",
    "Output: 2\n",
    "Input: [10, 6, 4], key = 10\n",
    "Output: 0\n",
    "\"\"\"\n",
    "\n",
    "# [ 96, 65, 54, 43, 32]\n",
    "\n",
    "def binary_search(arr, key):\n",
    "    first = 0\n",
    "    last = (len(arr)) - 1\n",
    "    is_ascending = arr[first] < arr[last]\n",
    "\n",
    "    while first <= last:\n",
    "        midpoint = (first + last) // 2\n",
    "        if arr[midpoint] == key:\n",
    "            return midpoint\n",
    "\n",
    "        else:\n",
    "            if is_ascending:\n",
    "                if key > arr[midpoint]:\n",
    "                    first = midpoint + 1\n",
    "                else:\n",
    "                    last = midpoint - 1\n",
    "            else:\n",
    "                if key < arr[midpoint]:\n",
    "                    first = midpoint + 1\n",
    "                else:\n",
    "                    last = midpoint - 1\n",
    "\n",
    "    return None\n",
    "\n",
    "\n",
    "def main():\n",
    "  print(binary_search([4, 6, 10], 10))\n",
    "  print(binary_search([1, 2, 3, 4, 5, 6, 7], 5))\n",
    "  print(binary_search([10, 6, 4], 10))\n",
    "  print(binary_search([10, 6, 4], 4))\n",
    "  print(binary_search([23, 43, 54], 1))\n",
    "\n",
    "\n",
    "main()\n",
    "# Time is O(log N), Space is O(1)\n"
   ]
  },
  {
   "cell_type": "code",
   "execution_count": 5,
   "metadata": {},
   "outputs": [
    {
     "name": "stdout",
     "output_type": "stream",
     "text": [
      "1\n",
      "5\n",
      "0\n"
     ]
    }
   ],
   "source": [
    "\"\"\"Find Minimum in Rotated Sorted Array\n",
    "Input: nums = [3,4,5,1,2]\n",
    "Output: 1\n",
    "Explanation: The original array was [1,2,3,4,5] rotated 3 times.\n",
    "\"\"\"\n",
    "def findMin(nums):\n",
    "    lo = 0\n",
    "    hi = len(nums)-1\n",
    "    if len(nums) == 1:\n",
    "        return nums[0]\n",
    "\n",
    "    while lo <= hi:\n",
    "        mid = (hi+lo) // 2\n",
    "        mid_number = nums[mid]\n",
    "\n",
    "        if mid > 0 and mid_number < nums[mid-1]:\n",
    "            # The middle position is the answer\n",
    "            return mid_number\n",
    "\n",
    "        elif mid_number < nums[hi]:\n",
    "            # Answer lies in the left half\n",
    "            hi = mid - 1  \n",
    "\n",
    "        else:\n",
    "            # Answer lies in the right half\n",
    "            lo = mid + 1\n",
    "\n",
    "    return 0\n",
    "\n",
    "\n",
    "print(findMin([3,4,5,1,2])) \n",
    "print(findMin([5]))\n",
    "print(findMin([]))\n"
   ]
  },
  {
   "cell_type": "code",
   "execution_count": null,
   "metadata": {},
   "outputs": [],
   "source": [
    "\"\"\" Search in Sorted Array Solution\"\"\"\n",
    "\"\"\"\n",
    "      [4, 5, 6, 7, 0, 1, 2]                view this as 2 sorted arrays\n",
    "       0  1  2  3  4  5  6  \n",
    "\n",
    "# If the mid value is 6 and the target is greater than 6 then we know that the target is at the right of the mid value,\n",
    "# since the first part of the array is always ascending(sorted). \n",
    "# Eg; Target: 7,  New search area: [7, 0, 1, 2]    \n",
    "# \n",
    "# If the target is lesser than 6, then we check how the smallest value in the first sorted array compares to the target,\n",
    "# if the target is smaller than the smallest value then we check right of the mid value, if not then we check the left \n",
    "# of the mid value. \n",
    "# Eg; Target; 5,  New search area: [4, 5, 6]\n",
    "\n",
    "# If mid value was 1 and the target was less than 1 then we know to search the left of the mid value\n",
    "# Eg; Target; 0, New search area: [4, 5, 6, 7, 0]\n",
    "\n",
    "# If the target was greater than the midpoint, and the target is less than the largest value of the second array, search\n",
    "# the right of the mid value, else left.\n",
    "# Eg; Target; 2, New search area:[2]\n",
    "# Eg; Target; 5, New search area:[4, 5, 6, 7, 0]\n",
    "\n",
    "# If the left value <= mid value, then the mid belongs to the left array\n",
    "# so 7 is in the left portion\n",
    "# else mid value is in the right portion\n",
    "# Eg; [5, 6, 7, 0, 1, 2, 4] , 0 is in the right portion\n",
    "\"\"\""
   ]
  },
  {
   "cell_type": "code",
   "execution_count": 1,
   "metadata": {},
   "outputs": [
    {
     "name": "stdout",
     "output_type": "stream",
     "text": [
      "4\n",
      "6\n",
      "1\n",
      "-1\n"
     ]
    }
   ],
   "source": [
    "\"\"\"\n",
    "There is an integer array nums sorted in ascending order (with distinct values).\n",
    "Prior to being passed to your function, nums is possibly rotated at an unknown pivot index k (1 <= k < nums.length) such that the resulting array is \n",
    "[nums[k], nums[k+1], ..., nums[n-1], nums[0], nums[1], ..., nums[k-1]] (0-indexed). For example, [0,1,2,4,5,6,7] might be rotated at pivot index 3 and \n",
    "become [4,5,6,7,0,1,2].\n",
    "\n",
    "Given the array nums after the possible rotation and an integer target, return the index of target if it is in nums, or -1 if it is not in nums.\n",
    "\n",
    "You must write an algorithm with O(log n) runtime complexity.\n",
    "Input: nums = [4,5,6,7,0,1,2], target = 0\n",
    "Output: 4\n",
    "Input: nums = [4,5,6,7,0,1,2], target = 3\n",
    "Output: -1\n",
    "\n",
    "[5, 6, 7, 0, 1, 2, 4]  t=2\n",
    "\"\"\"\n",
    "\n",
    "def search_rotated_array(nums, target):\n",
    "    first, last = 0, len(nums) - 1\n",
    "\n",
    "    while first <= last:\n",
    "        midpoint = (first + last) // 2\n",
    "        if nums[midpoint] == target:\n",
    "            return midpoint\n",
    "        # midpoint is in the left sorted portion\n",
    "        if nums[first] <= nums[midpoint]:\n",
    "            if nums[first] <= target and target <= nums[midpoint]:\n",
    "                last = midpoint - 1\n",
    "            else:\n",
    "                first = midpoint + 1\n",
    "\n",
    "        else:\n",
    "            if nums[midpoint] <= target and target<= nums[last]:  #midpoint is in the right portion\n",
    "                first = midpoint + 1\n",
    "            else:\n",
    "                last = midpoint - 1\n",
    "\n",
    "    return -1\n",
    "\n",
    "test_list = [4,5,6,7,0,1,2]\n",
    "\n",
    "print(search_rotated_array(test_list, 0))\n",
    "print(search_rotated_array(test_list, 2))\n",
    "print(search_rotated_array(test_list, 5))\n",
    "print(search_rotated_array(test_list, 10))"
   ]
  },
  {
   "cell_type": "code",
   "execution_count": null,
   "metadata": {},
   "outputs": [],
   "source": []
  },
  {
   "cell_type": "code",
   "execution_count": 3,
   "metadata": {},
   "outputs": [
    {
     "name": "stdout",
     "output_type": "stream",
     "text": [
      "2\n"
     ]
    }
   ],
   "source": [
    "# we want to return the first ocurrence of the number\n",
    "# Eg; 6 -> 2\n",
    "# [8, 8, 6, 6, 6, 6, 6, 6, 3, 2, 2, 2, 0, 0, 0]\n",
    "#  0  1  2  3  4  5  6  7  8  9 10  11 12 13 14\n",
    "\n",
    "def test_location(cards, query, mid):\n",
    "    mid_number = cards[mid]\n",
    "    #print(\"mid:\", mid, \", mid_number:\", mid_number)\n",
    "    if mid_number == query:\n",
    "        if mid-1 >= 0 and cards[mid-1] == query:\n",
    "            return 'left'\n",
    "        else:\n",
    "            return 'found'\n",
    "    elif mid_number < query:\n",
    "        return 'left'\n",
    "    else:\n",
    "        return 'right'\n",
    "\n",
    "def locate_card(cards, query):\n",
    "    lo, hi = 0, len(cards) - 1\n",
    "    \n",
    "    while lo <= hi:\n",
    "        #print(\"lo:\", lo, \", hi:\", hi)\n",
    "        mid = (lo + hi) // 2\n",
    "        result = test_location(cards, query, mid)\n",
    "        \n",
    "        if result == 'found':\n",
    "            return mid\n",
    "        elif result == 'left':\n",
    "            hi = mid - 1\n",
    "        elif result == 'right':\n",
    "            lo = mid + 1\n",
    "    return -1\n",
    "\n",
    "test_list = [8, 8, 6, 6, 6, 6, 6, 6, 3, 2, 2, 2, 0, 0, 0]\n",
    "print(locate_card(test_list, 6))"
   ]
  },
  {
   "cell_type": "code",
   "execution_count": null,
   "metadata": {},
   "outputs": [],
   "source": []
  },
  {
   "cell_type": "code",
   "execution_count": 2,
   "metadata": {},
   "outputs": [
    {
     "name": "stdout",
     "output_type": "stream",
     "text": [
      "2\n"
     ]
    }
   ],
   "source": [
    "\"\"\"  Finding the boundary\n",
    "\n",
    "An array of boolean values is divided into two sections; the left section consists of all false and the right section \n",
    "consists of all true. Find the boundary of the right section, i.e. the index of the first true element. If there is no\n",
    "true element, return -1.\n",
    "\n",
    "Input: arr = [false, false, true, true, true]\n",
    "Output: 2\n",
    " \"\"\"\n",
    "# If mid is False, we discard it and all elements to the left of it \n",
    "# If mid is True, we save it in a variable and discard everything to the right\n",
    "\n",
    "\n",
    "def find_boundary(arr):\n",
    "    left, right = 0, len(arr) - 1\n",
    "    boundary_index = -1\n",
    "\n",
    "    while left <= right:\n",
    "        mid = (left + right) // 2\n",
    "        if arr[mid]:\n",
    "            boundary_index = mid\n",
    "            right = mid - 1\n",
    "        else:\n",
    "            left = mid + 1\n",
    "\n",
    "    return boundary_index\n",
    "\n",
    "arr = [False, False, True, True, True]\n",
    "print(find_boundary(arr))"
   ]
  },
  {
   "cell_type": "code",
   "execution_count": 7,
   "metadata": {},
   "outputs": [
    {
     "name": "stdout",
     "output_type": "stream",
     "text": [
      "Find first element : 1\n",
      "Find first element : 0\n",
      "Find first element : 9\n",
      "Find first element : 4\n"
     ]
    }
   ],
   "source": [
    "def first_not_smaller(arr, target):\n",
    "    left, right = 0, len(arr) - 1\n",
    "    boundary_index = -1\n",
    "    while left <= right:\n",
    "        mid = (left + right) // 2\n",
    "        if arr[mid] >= target:\n",
    "            boundary_index = mid\n",
    "            right = mid - 1\n",
    "        else:\n",
    "            left = mid + 1\n",
    "    return boundary_index\n",
    "\n",
    "# Driver code\n",
    "print(\"Find first element :\",first_not_smaller([1, 3, 3, 5, 8, 8, 10],2))\n",
    "print(\"Find first element :\",first_not_smaller([0],0))\n",
    "print(\"Find first element :\",first_not_smaller([1, 2, 3, 4, 5, 6, 7, 8, 9, 10],10))\n",
    "print(\"Find first element :\",first_not_smaller([1, 1, 1, 1, 4, 5],3))\n"
   ]
  },
  {
   "cell_type": "code",
   "execution_count": 9,
   "metadata": {},
   "outputs": [
    {
     "name": "stdout",
     "output_type": "stream",
     "text": [
      "First occurance : 1\n",
      "First occurance : 0\n",
      "First occurance : 3\n",
      "First occurance : -1\n",
      "First occurance : 3\n",
      "First occurance : 0\n"
     ]
    }
   ],
   "source": [
    "def find_first_occurrence(arr, target):\n",
    "    l, r = 0, len(arr) - 1\n",
    "    ans = -1\n",
    "    while l <= r:\n",
    "        mid = (l + r) // 2\n",
    "        if arr[mid] == target:\n",
    "            ans = mid\n",
    "            r = mid - 1\n",
    "        elif arr[mid] < target:\n",
    "            l = mid + 1\n",
    "        else:\n",
    "            r = mid - 1\n",
    "    return ans\n",
    "\n",
    "# Driver code\n",
    "print(\"First occurance :\",find_first_occurrence([1, 3, 3, 3, 3, 6, 10, 10, 10, 100], 3))\n",
    "print(\"First occurance :\",find_first_occurrence([1, 1, 1, 1, 1, 1, 1, 1, 1, 1, 1, 1], 1))\n",
    "print(\"First occurance :\",find_first_occurrence([1, 22, 22, 33, 50, 100, 20000], 33))\n",
    "print(\"First occurance :\",find_first_occurrence([4, 6, 7, 7, 7, 20], 8))\n",
    "print(\"First occurance :\",find_first_occurrence([6, 7, 9, 10, 10, 10, 90], 10))\n",
    "print(\"First occurance :\",find_first_occurrence([4], 4))\n",
    "    \n"
   ]
  },
  {
   "cell_type": "code",
   "execution_count": 5,
   "metadata": {},
   "outputs": [
    {
     "name": "stdout",
     "output_type": "stream",
     "text": [
      "Square root: 2\n",
      "Square root: 2\n",
      "Square root: 3\n",
      "Square root: 3\n",
      "Square root: 5\n"
     ]
    }
   ],
   "source": [
    "def square_root(n):\n",
    "    if n == 0:\n",
    "        return 0\n",
    "    left, right = 0, n\n",
    "    res = -1\n",
    "    while left <= right:\n",
    "        mid = (left + right) // 2\n",
    "        if mid * mid <= n:\n",
    "            res = mid\n",
    "            left = mid + 1\n",
    "        else:\n",
    "            right = mid - 1\n",
    "    return res\n",
    "\n",
    "## Driver code\n",
    "print(\"Square root:\", square_root(4))\n",
    "print(\"Square root:\", square_root(8))\n",
    "print(\"Square root:\", square_root(9))\n",
    "print(\"Square root:\", square_root(10))\n",
    "print(\"Square root:\", square_root(25))\n"
   ]
  },
  {
   "cell_type": "code",
   "execution_count": 3,
   "metadata": {},
   "outputs": [
    {
     "name": "stdout",
     "output_type": "stream",
     "text": [
      "Square root: True\n",
      "Square root: False\n",
      "Square root: True\n",
      "Square root: False\n"
     ]
    }
   ],
   "source": [
    "def square_root(num):\n",
    "    left = 0\n",
    "    right = num\n",
    "    \n",
    "    while left <= right:\n",
    "        mid = left + (right-left)//2\n",
    "        if  mid ** 2 == num:\n",
    "            return True\n",
    "        elif mid ** 2 > num:\n",
    "            right = mid -1\n",
    "        else:\n",
    "            left = mid +1\n",
    "    return False\n",
    "\n",
    "## Driver code\n",
    "print(\"Square root:\", square_root(4))\n",
    "print(\"Square root:\", square_root(8))\n",
    "print(\"Square root:\", square_root(9))\n",
    "print(\"Square root:\", square_root(10))"
   ]
  },
  {
   "cell_type": "code",
   "execution_count": null,
   "metadata": {},
   "outputs": [],
   "source": [
    "def peak_of_mountain_array(arr):\n",
    "    left, right = 0, len(arr) - 1\n",
    "    boundary_index = -1\n",
    "\n",
    "    while left <= right:\n",
    "        mid = (left + right) // 2\n",
    "        if mid == len(arr) - 1 or arr[mid] >= arr[mid + 1]:\n",
    "            boundary_index = mid\n",
    "            right = mid - 1\n",
    "        else:\n",
    "            left = mid + 1\n",
    "\n",
    "    return boundary_index\n",
    "    \n",
    "## Driver code\n",
    "print(\"Peak index:\", peak_of_mountain_array([0, 1, 2, 3, 2, 1, 0]))\n",
    "print(\"Peak index:\", peak_of_mountain_array([0, 10, 3, 2, 1, 0]))\n",
    "print(\"Peak index:\", peak_of_mountain_array([0, 10, 0]))"
   ]
  }
 ],
 "metadata": {
  "interpreter": {
   "hash": "7e1998ff7f8aa20ada591c520b972326324e5ea05489af9e422744c7c09f6dad"
  },
  "kernelspec": {
   "display_name": "Python 3.10.1 64-bit",
   "language": "python",
   "name": "python3"
  },
  "language_info": {
   "codemirror_mode": {
    "name": "ipython",
    "version": 3
   },
   "file_extension": ".py",
   "mimetype": "text/x-python",
   "name": "python",
   "nbconvert_exporter": "python",
   "pygments_lexer": "ipython3",
   "version": "3.10.1"
  },
  "orig_nbformat": 4
 },
 "nbformat": 4,
 "nbformat_minor": 2
}
