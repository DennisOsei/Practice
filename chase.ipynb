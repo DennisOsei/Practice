{
 "cells": [
  {
   "cell_type": "code",
   "execution_count": null,
   "metadata": {},
   "outputs": [],
   "source": [
    "\"\"\"\n",
    "An integer is said to be \"self-describing\" if it has the property that, when digit positions are labeled 0 to N-1, the digit in each position is equal to the number of times that that digit appears in the number.\n",
    "\n",
    "For example,   2020   is a four-digit self describing number:\n",
    "\n",
    "      position   0   has value   2   and there are two 0s in the number;\n",
    "      position   1   has value   0   and there are no 1s in the number;\n",
    "      position   2   has value   2   and there are two 2s;\n",
    "      position   3   has value   0   and there are zero 3s.\n",
    "\n",
    "\n",
    "Self-describing numbers < 100.000.000  are:     1210,   2020,   21200,   3211000,   42101000. \n",
    "\n",
    "\"\"\""
   ]
  },
  {
   "cell_type": "code",
   "execution_count": 6,
   "metadata": {},
   "outputs": [
    {
     "name": "stdout",
     "output_type": "stream",
     "text": [
      "1\n",
      "0\n",
      "1\n",
      "0\n",
      "1\n",
      "0\n"
     ]
    }
   ],
   "source": [
    "#[2, 0, 2, 0]     num_of_element\n",
    "# 0  1  2  3      element\n",
    "\n",
    "\n",
    "\n",
    "def self_describing(n):\n",
    "    num = str(n)\n",
    "    for index, value in enumerate(num):\n",
    "        if num.count(str(index)) == int(value):\n",
    "            return \"1\"\n",
    "        else:\n",
    "            return \"0\"\n",
    "\n",
    "print(self_describing(2020))\n",
    "print(self_describing(1234))\n",
    "print(self_describing(1210))\n",
    "print(self_describing(1))\n",
    "print(self_describing(21200))\n",
    "print(self_describing(000))\n",
    "\n",
    "# \"2 0 2 0\"\n",
    "#  0 1 2 3"
   ]
  },
  {
   "cell_type": "code",
   "execution_count": 1,
   "metadata": {},
   "outputs": [
    {
     "name": "stdout",
     "output_type": "stream",
     "text": [
      "True\n",
      "False\n"
     ]
    }
   ],
   "source": [
    "def par_checker(sequence):\n",
    "    stack = []\n",
    "    for symbol in sequence:\n",
    "        if symbol in \"([{\":\n",
    "            stack.append(symbol)\n",
    "        else:\n",
    "            if stack == []:\n",
    "                return False\n",
    "            else:\n",
    "                if not matches(stack.pop(), symbol):\n",
    "                    return False\n",
    "\n",
    "    return not bool(stack)\n",
    "\n",
    "def matches(sym_left, sym_right):\n",
    "    all_left = \"([{\"\n",
    "    all_right = \")]}\"\n",
    "    return all_left.index(sym_left) == all_right.index(sym_right)\n",
    "\n",
    "\n",
    "print(par_checker('{({([][])}())}'))\n",
    "print(par_checker('[{()]'))    "
   ]
  },
  {
   "cell_type": "code",
   "execution_count": 21,
   "metadata": {},
   "outputs": [
    {
     "name": "stdout",
     "output_type": "stream",
     "text": [
      "1\n",
      "2\n",
      "5\n",
      "0\n"
     ]
    }
   ],
   "source": [
    "\"\"\"\n",
    "First we create a list dp, which we have initized to 0.\n",
    "\n",
    "Now, dp[i]==> This denotes the number of decodings possible upto [i-1]th element of s. In other words, to calculate decoding upto ith character of s, we need to know dp[i+1]. Hence , when we calculate dp[len(s)] or dp[-1] , it will give us the number of decodings till s[len(s)-1], hence the answer\n",
    "\n",
    "Now, try to understand this one:\n",
    "dp[i-1] ==> gives the number of decodings until [i-2] element of s in consideration , and since we are considering till s[i-1] ,hence only one letter can be placed at the end, resulting in new sequences. This is the number of sequences which are formed by using the last one character.\n",
    "\n",
    "dp[i-2]==>gives the number of decodings until [i-3] element of s in consideration , and since we are considering till s[i-1] ,hence two letters can be placed at the end, resulting in new sequences. This is the number of sequences which are formed by using the last two characters.\n",
    "\n",
    "Now the edge cases:\n",
    "\n",
    "If s[i-1]==0==> means that the last character cannot be used for making new decodings, as we dont have code for 0, hence we test this condition using\n",
    "if 1<=int(s[i-1])<=9\n",
    "\n",
    "If the last two digits in consideration add up to give more than 26, we have the same problem as before with having no code assigned to them and hence no decodings possible for this case either. We check this using\n",
    "if 10 <= int(s[i - 2] + s[i - 1]) <= 26\n",
    "After these two edge cases, all conditions have been acounted for and we simply return the result.\n",
    "\n",
    "\"\"\"\n",
    "\n",
    "def numDecodings(s):\n",
    "    dp = [0] * (len(s) + 1)             \n",
    "    dp[0],dp[1]=1,1\n",
    "    if s[0] == \"0\":            \n",
    "        return 0\n",
    "    for i in range(2, len(s) + 1):\n",
    "        if 1<=int(s[i-1])<=9:\n",
    "            dp[i]+= dp[i - 1]\n",
    "        if 10 <= int(s[i - 2] + s[i - 1]) <= 26 :\n",
    "            dp[i]+=dp[i - 2] \n",
    "    return dp[-1]\n",
    "\n",
    "print(numDecodings(\"8479\"))\n",
    "print(numDecodings(\"234\"))\n",
    "print(numDecodings(\"1126\"))\n",
    "print(numDecodings(\"00\"))\n",
    "\n"
   ]
  },
  {
   "cell_type": "code",
   "execution_count": 25,
   "metadata": {},
   "outputs": [
    {
     "name": "stdout",
     "output_type": "stream",
     "text": [
      "True\n",
      "True\n",
      "False\n",
      "False\n"
     ]
    }
   ],
   "source": [
    "\n",
    "def isHappy(n):\n",
    "    seen = set()\n",
    "    while n not in seen:\n",
    "        seen.add(n)\n",
    "        n = sum([int(x) **2 for x in str(n)])\n",
    "    return n == 1\n",
    "\n",
    "print(isHappy(10))\n",
    "print(isHappy(19))\n",
    "print(isHappy(2))\n",
    "print(isHappy(0))"
   ]
  },
  {
   "cell_type": "code",
   "execution_count": 26,
   "metadata": {},
   "outputs": [
    {
     "name": "stdout",
     "output_type": "stream",
     "text": [
      "True\n",
      "True\n",
      "False\n",
      "False\n"
     ]
    }
   ],
   "source": [
    "def isHappy(n):\n",
    "    mem = set()\n",
    "    while n != 1:\n",
    "        n = sum([int(i) ** 2 for i in str(n)])\n",
    "        if n in mem:\n",
    "            return False\n",
    "        else:\n",
    "            mem.add(n)\n",
    "    else:\n",
    "        return True\n",
    "\n",
    "\n",
    "print(isHappy(10))\n",
    "print(isHappy(19))\n",
    "print(isHappy(2))\n",
    "print(isHappy(0))"
   ]
  },
  {
   "cell_type": "code",
   "execution_count": 29,
   "metadata": {},
   "outputs": [
    {
     "name": "stdout",
     "output_type": "stream",
     "text": [
      "1\n",
      "5\n",
      "0\n"
     ]
    }
   ],
   "source": [
    "def fib(N):\n",
    "\tif N == 0: return 0\n",
    "\tif N == 1: return 1\n",
    "\treturn fib(N-1) + fib(N-2)\n",
    "\n",
    "print(fib(2))\n",
    "print(fib(5))\n",
    "print(fib(0))"
   ]
  },
  {
   "cell_type": "code",
   "execution_count": 30,
   "metadata": {},
   "outputs": [
    {
     "name": "stdout",
     "output_type": "stream",
     "text": [
      "1\n",
      "5\n",
      "0\n"
     ]
    }
   ],
   "source": [
    "def fib(N):\n",
    "    a, b = 0, 1\n",
    "    for i in range(N):\n",
    "        a, b = b, a+b\n",
    "    return a\n",
    "\n",
    "print(fib(2))\n",
    "print(fib(5))\n",
    "print(fib(0))"
   ]
  },
  {
   "cell_type": "code",
   "execution_count": 11,
   "metadata": {},
   "outputs": [
    {
     "name": "stdout",
     "output_type": "stream",
     "text": [
      "1\n",
      "5\n",
      "0\n"
     ]
    }
   ],
   "source": [
    "def fib(n):\n",
    " \n",
    "    if n <= 1:\n",
    "        return n\n",
    " \n",
    "    previousFib = 0\n",
    "    currentFib = 1\n",
    " \n",
    "    for i in range(n - 1):\n",
    "        newFib = previousFib + currentFib\n",
    "        previousFib = currentFib\n",
    "        currentFib = newFib\n",
    " \n",
    "    return currentFib\n",
    "\n",
    "print(fib(2))\n",
    "print(fib(5))\n",
    "print(fib(0))"
   ]
  },
  {
   "cell_type": "code",
   "execution_count": 32,
   "metadata": {},
   "outputs": [
    {
     "name": "stdout",
     "output_type": "stream",
     "text": [
      "1\n",
      "6\n"
     ]
    }
   ],
   "source": [
    "def minimumSwaps(arr):\n",
    "    ref_arr = sorted(arr)\n",
    "    index_dict = {v: i for i,v in enumerate(arr)}\n",
    "    swaps = 0\n",
    "    \n",
    "    for i,v in enumerate(arr):\n",
    "        correct_value = ref_arr[i]\n",
    "        if v != correct_value:\n",
    "            to_swap_ix = index_dict[correct_value]\n",
    "            arr[to_swap_ix],arr[i] = arr[i], arr[to_swap_ix]\n",
    "            index_dict[v] = to_swap_ix\n",
    "            index_dict[correct_value] = i\n",
    "            swaps += 1\n",
    "            \n",
    "    return swaps\n",
    "\n",
    "print(minimumSwaps([4, 2, 1, 5]))\n",
    "print(minimumSwaps([4, 7, 9, 3, 1, 2, 8]))"
   ]
  },
  {
   "cell_type": "code",
   "execution_count": 45,
   "metadata": {},
   "outputs": [
    {
     "name": "stdout",
     "output_type": "stream",
     "text": [
      "No\n"
     ]
    }
   ],
   "source": [
    "import re\n",
    "\n",
    "password = \"AljslB!24\"\n",
    "\n",
    "\n",
    "x = re.search(\"^(?=.*[A-Za-z])(?=.*\\d)[A-Za-z\\d]{8,}$\", password)\n",
    "if x:\n",
    "    print(\"Yes\")\n",
    "else:\n",
    "    print(\"No\")\n",
    "\n"
   ]
  },
  {
   "cell_type": "code",
   "execution_count": 46,
   "metadata": {},
   "outputs": [],
   "source": [
    "def printStrongNess(input_string):\n",
    "     \n",
    "    n = len(input_string)\n",
    " \n",
    "    # Checking lower alphabet in string\n",
    "    hasLower = False\n",
    "    hasUpper = False\n",
    "    hasDigit = False\n",
    "    specialChar = False\n",
    "    normalChars = \"abcdefghijklmnopqrstu\"\n",
    "    \"vwxyzABCDEFGHIJKLMNOPQRSTUVWXYZ1234567890 \"\n",
    "     \n",
    "    for i in range(n):\n",
    "        if input_string[i].islower():\n",
    "            hasLower = True\n",
    "        if input_string[i].isupper():\n",
    "            hasUpper = True\n",
    "        if input_string[i].isdigit():\n",
    "            hasDigit = True\n",
    "        if input_string[i] not in normalChars:\n",
    "            specialChar = True\n",
    " \n",
    "    # Strength of password\n",
    "    print(\"Strength of password:-\", end = \"\")\n",
    "    if (hasLower and hasUpper and\n",
    "        hasDigit and specialChar and n >= 8):\n",
    "        print(\"Strong\")\n",
    "         \n",
    "    elif ((hasLower or hasUpper) and\n",
    "          specialChar and n >= 6):\n",
    "        print(\"Moderate\")\n",
    "    else:\n",
    "        print(\"Weak\")"
   ]
  },
  {
   "cell_type": "code",
   "execution_count": 47,
   "metadata": {},
   "outputs": [
    {
     "name": "stdout",
     "output_type": "stream",
     "text": [
      "Invalid Password!!!\n",
      "Valid Password\n"
     ]
    }
   ],
   "source": [
    "# Python3 code to validate a password\n",
    "\n",
    "# A utility function to check\n",
    "# whether a password is valid or not\n",
    "def isValid(password):\n",
    "\n",
    "\t# for checking if password length\n",
    "\t# is between 8 and 15\n",
    "\tif (len(password) < 8 or len(password) > 15):\n",
    "\t\treturn False\n",
    "\n",
    "\t# to check space\n",
    "\tif (\" \" in password):\n",
    "\t\treturn False\n",
    "\n",
    "\tif (True):\n",
    "\t\tcount = 0\n",
    "\n",
    "\t\t# check digits from 0 to 9\n",
    "\t\tarr = ['0', '1', '2', '3',\n",
    "\t\t'4', '5', '6', '7', '8', '9']\n",
    "\n",
    "\t\tfor i in password:\n",
    "\t\t\tif i in arr:\n",
    "\t\t\t\tcount = 1\n",
    "\t\t\t\tbreak\n",
    "\n",
    "\t\tif count == 0:\n",
    "\t\t\treturn False\n",
    "\n",
    "\t# for special characters\n",
    "\tif True:\n",
    "\t\tcount = 0\n",
    "\n",
    "\t\tarr = ['@', '#','!','~','$','%','^',\n",
    "\t\t\t\t'&','*','(',',','-','+','/',\n",
    "\t\t\t\t':','.',',','<','>','?','|']\n",
    "\n",
    "\t\tfor i in password:\n",
    "\t\t\tif i in arr:\n",
    "\t\t\t\tcount = 1\n",
    "\t\t\t\tbreak\n",
    "\t\tif count == 0:\n",
    "\t\t\treturn False\n",
    "\n",
    "\tif True:\n",
    "\t\tcount = 0\n",
    "\n",
    "\t\t# checking capital letters\n",
    "\t\tfor i in range(65, 91):\n",
    "\n",
    "\t\t\tif chr(i) in password:\n",
    "\t\t\t\tcount = 1\n",
    "\n",
    "\t\tif (count == 0):\n",
    "\t\t\treturn False\n",
    "\n",
    "\tif (True):\n",
    "\t\tcount = 0\n",
    "\n",
    "\t\t# checking small letters\n",
    "\t\tfor i in range(97, 123):\n",
    "\n",
    "\t\t\tif chr(i) in password:\n",
    "\t\t\t\tcount = 1\n",
    "\n",
    "\t\tif (count == 0):\n",
    "\t\t\treturn False\n",
    "\n",
    "\t# if all conditions fails\n",
    "\treturn True\n",
    "\n",
    "# Driver code\n",
    "password1 = \"GeeksForGeeks\"\n",
    "\n",
    "if (isValid([i for i in password1])):\n",
    "\tprint(\"Valid Password\")\n",
    "else:\n",
    "\tprint(\"Invalid Password!!!\")\n",
    "\n",
    "password2 = \"Geek$ForGeeks7\"\n",
    "if (isValid([i for i in password2])):\n",
    "\tprint(\"Valid Password\")\n",
    "else:\n",
    "\tprint(\"Invalid Password!!!\")\n",
    "\n",
    "# This code is contributed by mohit kumar 29\n"
   ]
  },
  {
   "cell_type": "code",
   "execution_count": 67,
   "metadata": {},
   "outputs": [
    {
     "name": "stdout",
     "output_type": "stream",
     "text": [
      "K'th smallest element is 5\n"
     ]
    }
   ],
   "source": [
    "def kthSmallest(arr, n, k):\n",
    " \n",
    "    # Sort the given array\n",
    "    arr.sort()\n",
    " \n",
    "    # Return k'th element in the\n",
    "    # sorted array\n",
    "    return arr[k-1]\n",
    " \n",
    "# Driver code\n",
    "if __name__=='__main__':\n",
    "    arr = [12, 3, 5, 7, 19]\n",
    "    n = len(arr)\n",
    "    k = 2\n",
    "    print(\"K'th smallest element is\",\n",
    "          kthSmallest(arr, n, k))"
   ]
  },
  {
   "cell_type": "code",
   "execution_count": 5,
   "metadata": {},
   "outputs": [
    {
     "name": "stdout",
     "output_type": "stream",
     "text": [
      "8\n",
      "10\n",
      "55\n"
     ]
    }
   ],
   "source": [
    "array = [1,4,2,6,8,9,5,67,10,55]\n",
    "\n",
    "def findKthLargest1(nums, k):\n",
    "    return sorted(nums, reverse=True)[k-1]\n",
    "\n",
    "# [67, 55, 10, 9, 8, 6, 5, 4, 2, 1]\n",
    "print(findKthLargest1(array, 5)) \n",
    "print(findKthLargest1(array, 3))\n",
    "print(findKthLargest1(array, 2))"
   ]
  },
  {
   "cell_type": "code",
   "execution_count": 9,
   "metadata": {},
   "outputs": [
    {
     "name": "stdout",
     "output_type": "stream",
     "text": [
      "Middle Node: 3\n",
      "Middle Node: 4\n",
      "Middle Node: 4\n"
     ]
    }
   ],
   "source": [
    "class Node:\n",
    "  def __init__(self, value, next=None):\n",
    "    self.value = value\n",
    "    self.next = next\n",
    "\n",
    "\n",
    "def find_middle_of_linked_list(head):\n",
    "  slow = head\n",
    "  fast = head\n",
    "  while (fast is not None and fast.next is not None):\n",
    "    slow = slow.next\n",
    "    fast = fast.next.next\n",
    "  return slow\n",
    "\n",
    "\n",
    "def main():\n",
    "  head = Node(1)\n",
    "  head.next = Node(2)\n",
    "  head.next.next = Node(3)\n",
    "  head.next.next.next = Node(4)\n",
    "  head.next.next.next.next = Node(5)\n",
    "\n",
    "  print(\"Middle Node: \" + str(find_middle_of_linked_list(head).value))\n",
    "\n",
    "  head.next.next.next.next.next = Node(6)\n",
    "  print(\"Middle Node: \" + str(find_middle_of_linked_list(head).value))\n",
    "\n",
    "  head.next.next.next.next.next.next = Node(7)\n",
    "  print(\"Middle Node: \" + str(find_middle_of_linked_list(head).value))\n",
    "\n",
    "main()\n"
   ]
  },
  {
   "cell_type": "code",
   "execution_count": 12,
   "metadata": {},
   "outputs": [
    {
     "name": "stdout",
     "output_type": "stream",
     "text": [
      "The sentence is a panagram!\n",
      "The sentence is not a panagram and is missing the letters:  ['a', 'b', 'd', 'g', 'j', 'l', 'm', 'n', 'p', 'r', 's', 'v', 'w', 'y', 'z']\n",
      "The sentence is a panagram!\n",
      "The sentence is not a panagram and is missing the letters:  ['c', 'k', 'l', 'q', 'y']\n"
     ]
    }
   ],
   "source": [
    "from string import ascii_lowercase, punctuation\n",
    "from collections import defaultdict\n",
    "\n",
    "def isPanagram(sentence):\n",
    "  sentence = sentence.lower()\n",
    "  letterCount = defaultdict(int)\n",
    "  for letter in ascii_lowercase:\n",
    "    letterCount[letter] = 0\n",
    "  for letter in sentence:\n",
    "    if letter in punctuation:\n",
    "      continue # Skip special characters / punctuation marks\n",
    "    letterCount[letter] += 1\n",
    "\n",
    "  missingLetters = [letter for letter, count in letterCount.items() if count == 0]\n",
    "  if len(missingLetters) == 0:\n",
    "    print('The sentence is a panagram!')\n",
    "  else:\n",
    "    print('The sentence is not a panagram and is missing the letters: ', missingLetters)\n",
    "\n",
    "\n",
    "isPanagram('Fox nymphs grab quick-jived waltz.')\n",
    "isPanagram('The quick fox.')\n",
    "isPanagram('The five boxing wizards jump quickly.')\n",
    "isPanagram('The five boxing wizards jump.')"
   ]
  },
  {
   "cell_type": "code",
   "execution_count": null,
   "metadata": {},
   "outputs": [],
   "source": []
  }
 ],
 "metadata": {
  "interpreter": {
   "hash": "7e1998ff7f8aa20ada591c520b972326324e5ea05489af9e422744c7c09f6dad"
  },
  "kernelspec": {
   "display_name": "Python 3.10.1 64-bit",
   "language": "python",
   "name": "python3"
  },
  "language_info": {
   "codemirror_mode": {
    "name": "ipython",
    "version": 3
   },
   "file_extension": ".py",
   "mimetype": "text/x-python",
   "name": "python",
   "nbconvert_exporter": "python",
   "pygments_lexer": "ipython3",
   "version": "3.10.1"
  },
  "orig_nbformat": 4
 },
 "nbformat": 4,
 "nbformat_minor": 2
}
