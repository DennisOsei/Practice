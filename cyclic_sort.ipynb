{
 "cells": [
  {
   "cell_type": "code",
   "execution_count": 42,
   "metadata": {},
   "outputs": [],
   "source": [
    "# Patterns\n",
    "# If your given a range like \"from 1 to n\" or \"from 0 to n\"\n",
    "# If your asked to sort without extra space\n",
    "# find missing numbers or duplicates\n",
    "# remember, numbers aren't sorted, they are just place at their right indices.\n",
    "# time = O(n), space = O(1)"
   ]
  },
  {
   "cell_type": "code",
   "execution_count": 43,
   "metadata": {},
   "outputs": [
    {
     "name": "stdout",
     "output_type": "stream",
     "text": [
      "[1, 2, 3, 4, 5]\n",
      "[1, 2, 3, 4, 5, 6]\n",
      "[1, 2, 3, 4, 5, 6]\n"
     ]
    }
   ],
   "source": [
    "\"\"\"\n",
    "We are given an array containing n objects. Each object, when created, was assigned a unique number from the range 1 to n based on their creation sequence.\n",
    "This means that the object with sequence number 3 was created just before the object with sequence number 4.\n",
    "Write a function to sort the objects in-place on their creation sequence number in O(n) and without using any extra space. For simplicity, let’s assume\n",
    "we are passed an integer array containing only the sequence numbers, though each number is actually an object.\n",
    "Input: [3, 1, 5, 4, 2]\n",
    "Output: [1, 2, 3, 4, 5]\n",
    "\"\"\"\n",
    "\"\"\"\n",
    "As we know, the input array contains numbers from the range 1 to n. We can use this fact to devise an efficient way to sort the numbers. \n",
    "Since all numbers are unique, we can try placing each number at its correct place, i.e., placing 1 at index ‘0’, placing 2 at index ‘1’, and so on.\n",
    "To place a number (or an object in general) at its correct index, we first need to find that number. If we first find a number and then place it at\n",
    "its correct place, it will take us O(N2), which is not acceptable.\n",
    "Instead, what if we iterate the array one number at a time, and if the current number we are iterating is not at the correct index, we swap it with the \n",
    "number at its correct index. This way, we will go through all numbers and place them at their correct indices, hence, sorting the whole array.\n",
    "\"\"\"\n",
    "# [3, 1, 5, 4, 2]   [1, 2, 3, 4, 5]\n",
    "#  0  1  2  3  4     0  1  2  3  4\n",
    "\n",
    "\n",
    "def cyclic_sort(nums):\n",
    "  i = 0\n",
    "  while i < len(nums):\n",
    "    j = nums[i] - 1                      # the index of the number is the number - 1 \n",
    "    if nums[i] != nums[j]:               # if the current number is not in the correct index\n",
    "      nums[i], nums[j] = nums[j], nums[i]  # swap\n",
    "    else:\n",
    "      i += 1\n",
    "  return nums\n",
    "\n",
    "\n",
    "def main():\n",
    "  print(cyclic_sort([3, 1, 5, 4, 2]))\n",
    "  print(cyclic_sort([2, 6, 4, 3, 1, 5]))\n",
    "  print(cyclic_sort([1, 5, 6, 4, 3, 2]))\n",
    "\n",
    "\n",
    "main()\n"
   ]
  },
  {
   "cell_type": "code",
   "execution_count": 2,
   "metadata": {},
   "outputs": [
    {
     "name": "stdout",
     "output_type": "stream",
     "text": [
      "2\n",
      "7\n",
      "None\n"
     ]
    }
   ],
   "source": [
    "\"\"\"\n",
    "Find the Missing Number\n",
    "We are given an array containing n distinct numbers taken from the range 0 to n. Since the array has only n numbers out of the total n+1 numbers,\n",
    "find the missing number.\n",
    "Input: [4, 0, 3, 1]\n",
    "Output: 2\n",
    "\"\"\"\n",
    "\n",
    "# [4, 0, 3, 1]\n",
    "# [0, 1, 3, 4]\n",
    "#  0  1  2  3\n",
    "\n",
    "\n",
    "\n",
    "def find_missing_number(nums):\n",
    "  i, n = 0, len(nums)\n",
    "  while i < n:\n",
    "    j = nums[i]\n",
    "    if nums[i] < n and nums[i] != nums[j]:\n",
    "      nums[i], nums[j] = nums[j], nums[i]  # swap\n",
    "    else:\n",
    "      i += 1\n",
    "  #print(nums)\n",
    "  # find the first number missing from its index, that will be our required number\n",
    "  for i in range(n):\n",
    "    if nums[i] != i:\n",
    "      return i\n",
    "\n",
    "  return None           \n",
    "\n",
    "\n",
    "\n",
    "def main():\n",
    "  print(find_missing_number([4, 0, 3, 1]))\n",
    "  print(find_missing_number([8, 3, 5, 2, 4, 6, 0, 1]))\n",
    "  print(find_missing_number([0, 1, 2, 3]))\n",
    "\n",
    "\n",
    "main()\n"
   ]
  },
  {
   "cell_type": "code",
   "execution_count": 50,
   "metadata": {},
   "outputs": [
    {
     "name": "stdout",
     "output_type": "stream",
     "text": [
      "[4, 6, 7]\n",
      "[3]\n",
      "[4]\n"
     ]
    }
   ],
   "source": [
    "\"\"\"\n",
    "Find all Missing Numbers\n",
    "We are given an unsorted array containing numbers taken from the range 1 to ‘n’. The array can have duplicates, \n",
    "which means some numbers will be missing. Find all those missing numbers.\n",
    "Input: [2, 3, 1, 8, 2, 3, 5, 1]\n",
    "Output: 4, 6, 7\n",
    "Explanation: The array should have all numbers from 1 to 8, due to duplicates 4, 6, and 7 are missing.\n",
    "\"\"\"\n",
    "# [2, 3, 1, 8, 2, 3, 5, 1]\n",
    "\n",
    "# [1, 2, 3, 1, 5, 3, 2, 8]\n",
    "#  0  1  2  3  4  5  6  7\n",
    "def find_missing_numbers(nums):\n",
    "    i = 0 \n",
    "    while i < len(nums):\n",
    "        j = nums[i] - 1\n",
    "        if nums[i] != nums[j]:\n",
    "            nums[i], nums[j] = nums[j], nums[i]\n",
    "        else:\n",
    "            i += 1\n",
    "\n",
    "    missing_numbers = []\n",
    "\n",
    "    for i in range(len(nums)):\n",
    "        if nums[i] != i + 1:\n",
    "            missing_numbers.append(i + 1)\n",
    "\n",
    "    return missing_numbers\n",
    "\n",
    "\n",
    "def main():\n",
    "  print(find_missing_numbers([2, 3, 1, 8, 2, 3, 5, 1]))\n",
    "  print(find_missing_numbers([2, 4, 1, 2]))\n",
    "  print(find_missing_numbers([2, 3, 2, 1]))\n",
    "\n",
    "\n",
    "main()\n"
   ]
  },
  {
   "cell_type": "code",
   "execution_count": 46,
   "metadata": {},
   "outputs": [
    {
     "name": "stdout",
     "output_type": "stream",
     "text": [
      "4\n",
      "3\n",
      "4\n"
     ]
    }
   ],
   "source": [
    "\"\"\"\n",
    "Find the Duplicate Number \n",
    "We are given an unsorted array containing ‘n+1’ numbers taken from the range 1 to ‘n’. The array has only one duplicate but it can be repeated multiple times.\n",
    "Find that duplicate number without using any extra space. You are, however, allowed to modify the input array.\n",
    "Input: [1, 4, 4, 3, 2]\n",
    "Output: 4\n",
    "\"\"\"\n",
    "\"\"\"\n",
    "Since there is only one duplicate, if while swapping the number with its index both the numbers being swapped are same, we have found our duplicate!\n",
    "\"\"\"\n",
    "# [1, 4, 4, 3, 2]\n",
    "#  0  1  2  3  4\n",
    "\n",
    "# [1, 2, 3, 4, 4]\n",
    "#  0  1  2  3  4\n",
    "\n",
    "\n",
    "def find_duplicate(nums):\n",
    "  i = 0\n",
    "  while i < len(nums):\n",
    "      j = nums[i] - 1\n",
    "      if nums[i] != nums[j]:\n",
    "        nums[i], nums[j] = nums[j], nums[i]  # swap\n",
    "      else:\n",
    "        i += 1\n",
    "\n",
    "  for i in range(len(nums)):\n",
    "    if nums[i] != i + 1:\n",
    "      return nums[i]\n",
    "\n",
    "  return None\n",
    "\n",
    "\n",
    "\n",
    "\n",
    "def main():\n",
    "  print(find_duplicate([1, 4, 4, 3, 2]))\n",
    "  print(find_duplicate([2, 1, 3, 3, 5, 4]))\n",
    "  print(find_duplicate([2, 4, 1, 4, 4]))\n",
    "\n",
    "\n",
    "main()\n",
    "\n"
   ]
  },
  {
   "cell_type": "code",
   "execution_count": 47,
   "metadata": {},
   "outputs": [
    {
     "name": "stdout",
     "output_type": "stream",
     "text": [
      "[5, 4]\n",
      "[3, 5]\n"
     ]
    }
   ],
   "source": [
    "\"\"\"\n",
    "Find all Duplicate Numbers \n",
    "We are given an unsorted array containing n numbers taken from the range 1 to n. The array has some numbers appearing twice, \n",
    "find all these duplicate numbers using constant space.\n",
    "\n",
    "\"\"\"\n",
    "def find_all_duplicates(nums):\n",
    "  i = 0\n",
    "  while i < len(nums):\n",
    "    j = nums[i] - 1\n",
    "    if nums[i] != nums[j]:\n",
    "      nums[i], nums[j] = nums[j], nums[i]  # swap\n",
    "    else:\n",
    "      i += 1\n",
    "\n",
    "  duplicateNumbers = []\n",
    "  for i in range(len(nums)):\n",
    "    if nums[i] != i + 1:\n",
    "      duplicateNumbers.append(nums[i])\n",
    "\n",
    "  return duplicateNumbers\n",
    "\n",
    "\n",
    "def main():\n",
    "  print(find_all_duplicates([3, 4, 4, 5, 5]))\n",
    "  print(find_all_duplicates([5, 4, 7, 2, 3, 5, 3]))\n",
    "\n",
    "\n",
    "main()\n"
   ]
  },
  {
   "cell_type": "code",
   "execution_count": 51,
   "metadata": {},
   "outputs": [
    {
     "name": "stdout",
     "output_type": "stream",
     "text": [
      "[2, 4]\n",
      "[3, 5]\n",
      "[None, None]\n"
     ]
    }
   ],
   "source": [
    "\"\"\"\n",
    "Find the Corrupt Pair \n",
    "We are given an unsorted array containing ‘n’ numbers taken from the range 1 to ‘n’. The array originally contained all the numbers from 1 to ‘n’, \n",
    "but due to a data error, one of the numbers got duplicated which also resulted in one number going missing. Find both these numbers.\n",
    "Input: [3, 1, 2, 5, 2]\n",
    "Output: [2, 4]\n",
    "Explanation: '2' is duplicated and '4' is missing.\n",
    "\"\"\"\n",
    "# [3, 1, 2, 5, 2]\n",
    "#  [ 1, 2 , 2, 3, 5]\n",
    "#   0   1   2  3  4\n",
    "\n",
    "def find_corrupt_numbers(nums):\n",
    "  i = 0\n",
    "  while i < len(nums):\n",
    "    j = nums[i] - 1\n",
    "    if nums[i] != nums[j]:\n",
    "      nums[i], nums[j] = nums[j], nums[i]  # swap\n",
    "    else:\n",
    "      i += 1\n",
    "\n",
    "  for i in range(len(nums)):\n",
    "    if nums[i] != i + 1:\n",
    "      return [nums[i], i + 1]\n",
    "\n",
    "  return [None, None]\n",
    "\n",
    "\n",
    "def main():\n",
    "  print(find_corrupt_numbers([3, 1, 2, 5, 2]))\n",
    "  print(find_corrupt_numbers([3, 1, 2, 3, 6, 4]))\n",
    "  print(find_corrupt_numbers([1, 2, 3, 4]))\n",
    "\n",
    "\n",
    "main()\n"
   ]
  },
  {
   "cell_type": "code",
   "execution_count": 55,
   "metadata": {},
   "outputs": [
    {
     "name": "stdout",
     "output_type": "stream",
     "text": [
      "3\n",
      "4\n",
      "4\n"
     ]
    }
   ],
   "source": [
    "\"\"\"\n",
    "Find the Smallest Missing Positive Number\n",
    "Given an unsorted array containing numbers, find the smallest missing positive number in it.\n",
    "\n",
    "Note: Positive numbers start from ‘1’.\n",
    "Input: [-3, 1, 5, 4, 2]\n",
    "Output: 3\n",
    "Explanation: The smallest missing positive number is '3'\n",
    "\"\"\"\n",
    "\n",
    "def find_first_smallest_missing_positive(nums):\n",
    "  i, n = 0, len(nums)\n",
    "  while i < n:\n",
    "    j = nums[i] - 1\n",
    "    if nums[i] > 0 and nums[i] <= n and nums[i] != nums[j]:\n",
    "      nums[i], nums[j] = nums[j], nums[i]  # swap\n",
    "    else:\n",
    "      i += 1\n",
    " \n",
    "  for i in range(n):\n",
    "    if nums[i] != i + 1:\n",
    "      return i + 1\n",
    "\n",
    "  return len(nums) + 1\n",
    "\n",
    "\n",
    "def main():\n",
    "  print(find_first_smallest_missing_positive([-3, 1, 5, 4, 2]))\n",
    "  print(find_first_smallest_missing_positive([3, -2, 0, 1, 2]))\n",
    "  print(find_first_smallest_missing_positive([3, 2, 5, 1]))\n",
    "\n",
    "\n",
    "main()\n"
   ]
  },
  {
   "cell_type": "code",
   "execution_count": null,
   "metadata": {},
   "outputs": [],
   "source": []
  }
 ],
 "metadata": {
  "interpreter": {
   "hash": "7e1998ff7f8aa20ada591c520b972326324e5ea05489af9e422744c7c09f6dad"
  },
  "kernelspec": {
   "display_name": "Python 3.10.1 64-bit",
   "language": "python",
   "name": "python3"
  },
  "language_info": {
   "codemirror_mode": {
    "name": "ipython",
    "version": 3
   },
   "file_extension": ".py",
   "mimetype": "text/x-python",
   "name": "python",
   "nbconvert_exporter": "python",
   "pygments_lexer": "ipython3",
   "version": "3.10.1"
  },
  "orig_nbformat": 4
 },
 "nbformat": 4,
 "nbformat_minor": 2
}
