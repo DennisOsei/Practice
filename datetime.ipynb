{
 "cells": [
  {
   "cell_type": "code",
   "execution_count": 1,
   "metadata": {},
   "outputs": [],
   "source": [
    "# naive dates and times don't have enough info to determine timezone or dst but are easier to work with\n",
    "# aware dates and time do have all info including tz and dst."
   ]
  },
  {
   "cell_type": "code",
   "execution_count": 8,
   "metadata": {},
   "outputs": [
    {
     "name": "stdout",
     "output_type": "stream",
     "text": [
      "5\n"
     ]
    }
   ],
   "source": [
    "import datetime\n",
    "\n",
    "today = datetime.date.today()\n",
    "print(today.month)\n"
   ]
  },
  {
   "cell_type": "code",
   "execution_count": 10,
   "metadata": {},
   "outputs": [
    {
     "name": "stdout",
     "output_type": "stream",
     "text": [
      "2020-05-30\n"
     ]
    }
   ],
   "source": [
    "d = datetime.date(2020, 5, 30)\n",
    "print(d)\n"
   ]
  },
  {
   "cell_type": "code",
   "execution_count": 12,
   "metadata": {},
   "outputs": [
    {
     "name": "stdout",
     "output_type": "stream",
     "text": [
      "2022-05-26\n",
      "2022-05-12\n"
     ]
    }
   ],
   "source": [
    "today = datetime.date.today()\n",
    "\n",
    "tdelta = datetime.timedelta(days=7)\n",
    "\n",
    "print(today + tdelta)\n",
    "print(today - tdelta)"
   ]
  },
  {
   "cell_type": "code",
   "execution_count": 19,
   "metadata": {},
   "outputs": [
    {
     "name": "stdout",
     "output_type": "stream",
     "text": [
      "114 days, 0:00:00\n",
      "114\n",
      "9849600.0\n"
     ]
    }
   ],
   "source": [
    "bday = datetime.date(2022, 9, 10)\n",
    "till_bday = bday - today\n",
    "print(till_bday)\n",
    "print(till_bday.days)\n",
    "print(till_bday.total_seconds())"
   ]
  },
  {
   "cell_type": "code",
   "execution_count": 26,
   "metadata": {},
   "outputs": [
    {
     "name": "stdout",
     "output_type": "stream",
     "text": [
      "5 days, 0:00:00\n",
      "5\n"
     ]
    }
   ],
   "source": [
    "a = datetime.date(2020, 5, 10)\n",
    "b = datetime.date(2020, 5, 5)\n",
    "\n",
    "c = a - b\n",
    "print(c)\n",
    "print(c.days)"
   ]
  },
  {
   "cell_type": "code",
   "execution_count": 27,
   "metadata": {},
   "outputs": [
    {
     "name": "stdout",
     "output_type": "stream",
     "text": [
      "158 days, 0:00:00\n",
      "158\n"
     ]
    }
   ],
   "source": [
    "a = datetime.date(2020, 10, 10)\n",
    "b = datetime.date(2020, 5, 5)\n",
    "\n",
    "c = a - b\n",
    "print(c)\n",
    "print(c.days)"
   ]
  },
  {
   "cell_type": "code",
   "execution_count": null,
   "metadata": {},
   "outputs": [],
   "source": []
  },
  {
   "cell_type": "code",
   "execution_count": 35,
   "metadata": {},
   "outputs": [
    {
     "name": "stdout",
     "output_type": "stream",
     "text": [
      "05:30:00\n",
      "30\n",
      "5\n"
     ]
    }
   ],
   "source": [
    "t = datetime.time(5, 30)\n",
    "print(t)\n",
    "print(t.minute)\n",
    "print(t.hour)"
   ]
  },
  {
   "cell_type": "code",
   "execution_count": null,
   "metadata": {},
   "outputs": [],
   "source": []
  },
  {
   "cell_type": "code",
   "execution_count": 52,
   "metadata": {},
   "outputs": [
    {
     "name": "stdout",
     "output_type": "stream",
     "text": [
      "2020-05-21 12:30:43\n",
      "Date: 2020-05-21\n",
      "Time: 12:30:43\n",
      "2020\n",
      "5\n",
      "2020-05-21 13:00:43\n"
     ]
    }
   ],
   "source": [
    "dt = datetime.datetime(2020, 5, 21, 12, 30, 43)\n",
    "print(dt)\n",
    "print(\"Date:\", dt.date())\n",
    "print(\"Time:\", dt.time())\n",
    "print(dt.year)\n",
    "print(dt.month)\n",
    "\n",
    "tdelta = datetime.timedelta(minutes=30)\n",
    "\n",
    "new_time = tdelta + dt\n",
    "\n",
    "print(new_time)\n"
   ]
  },
  {
   "cell_type": "code",
   "execution_count": 53,
   "metadata": {},
   "outputs": [
    {
     "name": "stdout",
     "output_type": "stream",
     "text": [
      "2022-05-19 13:37:21.081061\n",
      "2022-05-19 13:37:21.081094\n",
      "2022-05-19 17:37:21.081125\n"
     ]
    }
   ],
   "source": [
    "dt_today = datetime.datetime.today()  #tz = None\n",
    "dt_now = datetime.datetime.now()  #tz = you can pass in tz\n",
    "dt_utcnow = datetime.datetime.utcnow() #tz = None\n",
    "\n",
    "print(dt_today)\n",
    "print(dt_now)\n",
    "print(dt_utcnow)"
   ]
  },
  {
   "cell_type": "code",
   "execution_count": null,
   "metadata": {},
   "outputs": [],
   "source": []
  },
  {
   "cell_type": "code",
   "execution_count": 58,
   "metadata": {},
   "outputs": [
    {
     "name": "stdout",
     "output_type": "stream",
     "text": [
      "2020-03-03 00:00:00\n",
      "2020-03-03\n"
     ]
    }
   ],
   "source": [
    "dt = datetime.datetime(2020, 2, 2)\n",
    "_min = 30\n",
    "\n",
    "tdelta = datetime.timedelta(days=_min)\n",
    "\n",
    "result = tdelta + dt\n",
    "print(result)\n",
    "print(result.date())\n"
   ]
  },
  {
   "cell_type": "code",
   "execution_count": null,
   "metadata": {},
   "outputs": [],
   "source": [
    "# If you want to use datetime methods, you need to convert string date to datetime object\n",
    "# If you want to use string methods, you need to convert datetime objects to strings"
   ]
  },
  {
   "cell_type": "code",
   "execution_count": 96,
   "metadata": {},
   "outputs": [
    {
     "name": "stdout",
     "output_type": "stream",
     "text": [
      "<class 'datetime.date'> 2022-05-19\n",
      "<class 'str'> May 19, 2022\n",
      "<class 'datetime.date'> 2022-05-19\n"
     ]
    }
   ],
   "source": [
    "# convert datetime to string (strftime)\n",
    "dt = datetime.datetime.today()\n",
    "print(type(dt.date()), dt.date())\n",
    "str_rep = dt.strftime(\"%B %d, %Y\")\n",
    "print(type(str_rep), str_rep)\n",
    "\n",
    "\n",
    "# convert string to datetime(strptime)\n",
    "dt_obj = datetime.datetime.strptime(str_rep, \"%B %d, %Y\")\n",
    "print(type(dt_obj.date()), dt_obj.date())"
   ]
  },
  {
   "cell_type": "code",
   "execution_count": 97,
   "metadata": {},
   "outputs": [
    {
     "name": "stdout",
     "output_type": "stream",
     "text": [
      "2011-12-08\n",
      "2029-10-08\n",
      "1999-09-30\n",
      "2011, December 08\n",
      "2011, 12 08\n",
      "08\n"
     ]
    }
   ],
   "source": [
    "# convert string to datetime(strptime)\n",
    "date1 = \"December 8, 2011\"\n",
    "date2 = \"08/10/29\"\n",
    "date3 = \"09-30-1999 12:23:03\"\n",
    "\n",
    "date1_obj = datetime.datetime.strptime(date1, \"%B %d, %Y\")\n",
    "print(date1_obj.date())\n",
    "\n",
    "date2_obj = datetime.datetime.strptime(date2, \"%d/%m/%y\")\n",
    "print(date2_obj.date())\n",
    "\n",
    "date3_obj = datetime.datetime.strptime(date3, \"%m-%d-%Y %H:%M:%S\")\n",
    "print(date3_obj.date())\n",
    "\n",
    "\n",
    "# convert datetime to string(strftime)\n",
    "print(date1_obj.strftime(\"%Y, %B %d\"))\n",
    "print(date1_obj.strftime(\"%Y, %m %d\"))\n",
    "print(date1_obj.strftime(\"%d\"))\n"
   ]
  },
  {
   "cell_type": "code",
   "execution_count": null,
   "metadata": {},
   "outputs": [],
   "source": []
  }
 ],
 "metadata": {
  "interpreter": {
   "hash": "7e1998ff7f8aa20ada591c520b972326324e5ea05489af9e422744c7c09f6dad"
  },
  "kernelspec": {
   "display_name": "Python 3.10.1 64-bit",
   "language": "python",
   "name": "python3"
  },
  "language_info": {
   "codemirror_mode": {
    "name": "ipython",
    "version": 3
   },
   "file_extension": ".py",
   "mimetype": "text/x-python",
   "name": "python",
   "nbconvert_exporter": "python",
   "pygments_lexer": "ipython3",
   "version": "3.10.1"
  },
  "orig_nbformat": 4
 },
 "nbformat": 4,
 "nbformat_minor": 2
}
