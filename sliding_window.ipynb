{
 "cells": [
  {
   "cell_type": "code",
   "execution_count": null,
   "metadata": {},
   "outputs": [],
   "source": [
    "\"\"\"\n",
    "Patterns\n",
    "* When working with strings, use dictionaries.\n",
    "\"\"\""
   ]
  },
  {
   "cell_type": "code",
   "execution_count": 65,
   "metadata": {},
   "outputs": [
    {
     "name": "stdout",
     "output_type": "stream",
     "text": [
      "[2.2, 2.8, 2.4, 3.6, 2.8]\n"
     ]
    }
   ],
   "source": [
    "\"\"\"\n",
    "Given an array, find the average of all subarrays of ‘K’ contiguous elements in it.    \n",
    "\"\"\"\n",
    "\n",
    "def find_averages_of_subarrays(K, arr):\n",
    "  result = []\n",
    "  for i in range(len(arr) - K + 1):\n",
    "    sum = 0.0\n",
    "    for j in range(i, i + K):\n",
    "      sum += arr[j]\n",
    "    result.append(sum / K)  # calculate average\n",
    "\n",
    "  return result\n",
    "\n",
    "print(find_averages_of_subarrays(5, [1, 3, 2, 6, -1, 4, 1, 8, 2]))\n",
    "\n",
    "# Time complexity: Since for every element of the input array, we are calculating the sum of its next ‘K’ elements, the time complexity of the above algorithm \n",
    "# will be O(N*K) where ‘N’ is the number of elements in the input array"
   ]
  },
  {
   "cell_type": "code",
   "execution_count": 66,
   "metadata": {},
   "outputs": [
    {
     "name": "stdout",
     "output_type": "stream",
     "text": [
      "[2.2, 2.8, 2.4, 3.6, 2.8]\n"
     ]
    }
   ],
   "source": [
    "\"\"\"\n",
    "First we gonna use a for loop to add to the sum and also check the indices of the window end\n",
    "When we hit the max number of k elements we will find the avg and add it to the result list\n",
    "To use the previous sum and move the window we will subtract the first element in the window and also the first index\n",
    "\"\"\"\n",
    "\n",
    "def find_averages_of_subarrays(K, arr):\n",
    "  result = []\n",
    "  window_sum, window_start = 0.0, 0\n",
    "  for window_end in range(len(arr)):\n",
    "    window_sum += arr[window_end]  # add the next element\n",
    "    # slide the window, we don't need to slide if we've not hit the required window size of 'k'\n",
    "    if window_end >= K - 1:\n",
    "      result.append(window_sum / K)  # calculate the average\n",
    "      window_sum = window_sum - arr[window_start]  # subtract the element going out\n",
    "      window_start += 1  # slide the window ahead\n",
    "\n",
    "  return result\n",
    "\n",
    "print(find_averages_of_subarrays(5, [1, 3, 2, 6, -1, 4, 1, 8, 2]))"
   ]
  },
  {
   "cell_type": "code",
   "execution_count": 67,
   "metadata": {},
   "outputs": [
    {
     "name": "stdout",
     "output_type": "stream",
     "text": [
      "[2.2, 2.8, 2.4, 3.6, 2.8]\n"
     ]
    }
   ],
   "source": [
    "\"\"\"\n",
    " Given an array, find the average of all subarrays of ‘K’ contiguous elements in it.    \n",
    "\"\"\"\n",
    "\n",
    "# [1, 3, 2, 6, -1, 4, 1, 8, 2]  k = 5\n",
    "#  0  1  2  3  4   5  6  7  8\n",
    "\n",
    "\n",
    "def sub_avg(k, arr):\n",
    "    result = []\n",
    "    subarry_sum, first_point = 0.0, 0\n",
    "\n",
    "    for endpoint in range(len(arr)):\n",
    "        subarry_sum = subarry_sum + arr[endpoint]\n",
    "\n",
    "        if endpoint >= k - 1:\n",
    "            result.append(subarry_sum / k)\n",
    "            subarry_sum = subarry_sum - arr[first_point]\n",
    "            first_point = first_point + 1\n",
    "\n",
    "    return result\n",
    "\n",
    "\n",
    "print(sub_avg(5, [1, 3, 2, 6, -1, 4, 1, 8, 2]))"
   ]
  },
  {
   "cell_type": "code",
   "execution_count": null,
   "metadata": {},
   "outputs": [],
   "source": []
  },
  {
   "cell_type": "code",
   "execution_count": 68,
   "metadata": {},
   "outputs": [
    {
     "name": "stdout",
     "output_type": "stream",
     "text": [
      "9\n"
     ]
    }
   ],
   "source": [
    "\"\"\"\n",
    "Given an array of positive numbers and a positive number ‘k,’ find the maximum sum of any contiguous subarray of size ‘k’.\n",
    "Eg; Input = [2, 1, 5, 1, 3, 2], k = 3    Output = 9\n",
    "\"\"\"\n",
    "# Time = (O(N))  Space = O(1)\n",
    "def max_sub_array_of_size_k(k, arr):\n",
    "  sub_array = []\n",
    "  _sum, firstpoint = 0, 0\n",
    "\n",
    "  for endpoint in range(len(arr)):\n",
    "    _sum = _sum + arr[endpoint]\n",
    "\n",
    "    if endpoint >= k - 1:\n",
    "      sub_array.append(_sum)\n",
    "      _sum = _sum - arr[firstpoint]\n",
    "      firstpoint += 1\n",
    "\n",
    "  return max(sub_array)\n",
    "\n",
    "\n",
    "print(max_sub_array_of_size_k(3, [2, 1, 5, 1, 3, 2]))\n"
   ]
  },
  {
   "cell_type": "code",
   "execution_count": 69,
   "metadata": {},
   "outputs": [
    {
     "name": "stdout",
     "output_type": "stream",
     "text": [
      "Maximum sum of a subarray of size K: 9\n",
      "Maximum sum of a subarray of size K: 7\n"
     ]
    }
   ],
   "source": [
    "# Time = (O(N))  Space = O(1)\n",
    "def max_sub_array_of_size_k(k, arr):\n",
    "  max_sum , window_sum = 0, 0\n",
    "  window_start = 0\n",
    "\n",
    "  for window_end in range(len(arr)):\n",
    "    window_sum += arr[window_end]  # add the next element\n",
    "    # slide the window, we don't need to slide if we've not hit the required window size of 'k'\n",
    "    if window_end >= k-1:\n",
    "      max_sum = max(max_sum, window_sum)\n",
    "      window_sum -= arr[window_start]  # subtract the element going out\n",
    "      window_start += 1  # slide the window ahead\n",
    "  return max_sum\n",
    "\n",
    "\n",
    "def main():\n",
    "  print(\"Maximum sum of a subarray of size K: \" + str(max_sub_array_of_size_k(3, [2, 1, 5, 1, 3, 2])))\n",
    "  print(\"Maximum sum of a subarray of size K: \" + str(max_sub_array_of_size_k(2, [2, 3, 4, 1, 5])))\n",
    "\n",
    "main()"
   ]
  },
  {
   "cell_type": "code",
   "execution_count": null,
   "metadata": {},
   "outputs": [],
   "source": []
  },
  {
   "cell_type": "code",
   "execution_count": 70,
   "metadata": {},
   "outputs": [
    {
     "name": "stdout",
     "output_type": "stream",
     "text": [
      "2\n",
      "1\n",
      "3\n"
     ]
    }
   ],
   "source": [
    "\"\"\"\n",
    "Given an array of positive numbers and a positive number ‘S,’ find the length of the smallest contiguous \n",
    "subarray whose sum is greater than or equal to ‘S’. Return 0 if no such subarray exists.\n",
    "Eg; Input = [2, 1, 5, 2, 8], S=7   Output = 1\n",
    "\"\"\"\n",
    "\"\"\"\n",
    "1. First, we will add-up elements from the beginning of the array until their sum becomes greater than or equal to ‘S.’\n",
    "2. These elements will constitute our sliding window. We are asked to find the smallest such window having a sum greater than or equal to ‘S.’ We will remember the length of this window as the smallest window so far.\n",
    "3. After this, we will keep adding one element in the sliding window (i.e., slide the window ahead) in a stepwise fashion.\n",
    "4. In each step, we will also try to shrink the window from the beginning. We will shrink the window until the window’s sum is smaller than ‘S’ again. This is needed as we intend to find the smallest window. This shrinking will also happen in multiple steps; in each step, we will do two things:\n",
    "   a. Check if the current window length is the smallest so far, and if so, remember its length.\n",
    "   b. Subtract the first element of the window from the running sum to shrink the sliding window.\n",
    "\n",
    "\"\"\"\n",
    "\n",
    "#  [2, 1, 5, 2, 8], S=7 \n",
    "#   0, 1, 3, 4, 5\n",
    "\n",
    "# Time = O(N)    Space = O(1)\n",
    "import math\n",
    "\n",
    "def smallest_subarray_sum(s, arr):\n",
    "  window_sum = 0\n",
    "  min_length = math.inf #infinity\n",
    "  window_start = 0\n",
    "\n",
    "  for window_end in range(len(arr)):\n",
    "    window_sum += arr[window_end]  # add the next element\n",
    "    # shrink the window as small as possible until the 'window_sum' is smaller than 's'\n",
    "    while window_sum >= s:\n",
    "      min_length = min(min_length, window_end - window_start + 1)\n",
    "      # print(\"curr_min:\", min_length)\n",
    "      window_sum -= arr[window_start]\n",
    "      window_start += 1\n",
    "  if min_length == math.inf:\n",
    "    return 0\n",
    "  return min_length\n",
    "\n",
    "\n",
    "\n",
    "print(smallest_subarray_sum(7, [2, 1, 5, 2, 3, 2]))\n",
    "print(smallest_subarray_sum(7, [2, 1, 5, 2, 8]))\n",
    "print(smallest_subarray_sum(8, [3, 4, 1, 1, 6]))\n",
    "\n"
   ]
  },
  {
   "cell_type": "code",
   "execution_count": null,
   "metadata": {},
   "outputs": [],
   "source": []
  },
  {
   "cell_type": "code",
   "execution_count": 89,
   "metadata": {},
   "outputs": [
    {
     "name": "stdout",
     "output_type": "stream",
     "text": [
      "4\n",
      "2\n",
      "5\n"
     ]
    }
   ],
   "source": [
    "\"\"\"\n",
    "Given a string, find the length of the longest substring in it with no more than K distinct characters.\n",
    "Eg; Input: String=\"araaci\", K=2   Output: 4\n",
    "\"\"\"\n",
    "\"\"\"\n",
    "1. First, we will insert characters from the beginning of the string until we have K distinct characters in the HashMap.\n",
    "2. These characters will constitute our sliding window. We are asked to find the longest such window having no more than K distinct characters. We will remember the length of this window as the longest window so far.\n",
    "3. After this, we will keep adding one character in the sliding window (i.e., slide the window ahead) in a stepwise fashion.\n",
    "4. In each step, we will try to shrink the window from the beginning if the count of distinct characters in the HashMap is larger than K. We will shrink the window until we have no more than K distinct characters in the HashMap. This is needed as we intend to find the longest window.\n",
    "5. While shrinking, we’ll decrement the character’s frequency going out of the window and remove it from the HashMap if its frequency becomes zero.\n",
    "6. At the end of each step, we’ll check if the current window length is the longest so far, and if so, remember its length.\n",
    "\n",
    "\"\"\"\n",
    "\n",
    "# a, r, a, a, c, i\n",
    "# 0  1  2  3  4  5\n",
    "\n",
    "# {a : 3, b: 1, c: 2}\n",
    "\n",
    "# Time = O(N), Space = O(K) as we will be storing a maximum of K+1 characters in the HashMap.\n",
    "def longest_substring_with_k_distinct(string, k):\n",
    "    max_length = 0\n",
    "    window_start = 0\n",
    "    char_frequency = {}\n",
    "\n",
    "    for window_end in range(len(string)):\n",
    "        right_char = string[window_end]\n",
    "        if right_char not in char_frequency:\n",
    "            char_frequency[right_char] = 0\n",
    "        char_frequency[right_char] += 1\n",
    "\n",
    "        while len(char_frequency) > k:\n",
    "            #print(char_frequency)\n",
    "            left_char = string[window_start]\n",
    "            char_frequency[left_char] -= 1\n",
    "            if char_frequency[left_char] == 0:\n",
    "                del char_frequency[left_char]\n",
    "            window_start += 1\n",
    "\n",
    "        max_length = max(max_length, window_end - window_start + 1)\n",
    "    return max_length\n",
    "\n",
    "\n",
    "print(longest_substring_with_k_distinct(\"araaci\", 2))\n",
    "print(longest_substring_with_k_distinct(\"araaci\", 1))\n",
    "print(longest_substring_with_k_distinct(\"cbbebi\", 3))"
   ]
  },
  {
   "cell_type": "code",
   "execution_count": 72,
   "metadata": {},
   "outputs": [
    {
     "name": "stdout",
     "output_type": "stream",
     "text": [
      "Length of the longest substring: 4\n",
      "Length of the longest substring: 2\n",
      "Length of the longest substring: 5\n"
     ]
    }
   ],
   "source": [
    "def longest_substring_with_k_distinct(str1, k):\n",
    "  window_start = 0\n",
    "  max_length = 0\n",
    "  char_frequency = {}\n",
    "\n",
    "  # in the following loop we'll try to extend the range [window_start, window_end]\n",
    "  for window_end in range(len(str1)):\n",
    "    right_char = str1[window_end]\n",
    "    if right_char not in char_frequency:\n",
    "      char_frequency[right_char] = 0\n",
    "    char_frequency[right_char] += 1\n",
    "\n",
    "    # shrink the sliding window, until we are left with 'k' distinct characters in the char_frequency\n",
    "    while len(char_frequency) > k:\n",
    "      left_char = str1[window_start]\n",
    "      char_frequency[left_char] -= 1\n",
    "      if char_frequency[left_char] == 0:\n",
    "        del char_frequency[left_char]\n",
    "      window_start += 1  # shrink the window\n",
    "    # remember the maximum length so far\n",
    "    max_length = max(max_length, window_end-window_start + 1)\n",
    "  return max_length\n",
    "\n",
    "\n",
    "def main():\n",
    "  print(\"Length of the longest substring: \" + str(longest_substring_with_k_distinct(\"araaci\", 2)))\n",
    "  print(\"Length of the longest substring: \" + str(longest_substring_with_k_distinct(\"araaci\", 1)))\n",
    "  print(\"Length of the longest substring: \" + str(longest_substring_with_k_distinct(\"cbbebi\", 3)))\n",
    "\n",
    "\n",
    "main()"
   ]
  },
  {
   "cell_type": "code",
   "execution_count": null,
   "metadata": {},
   "outputs": [],
   "source": []
  },
  {
   "cell_type": "code",
   "execution_count": 73,
   "metadata": {},
   "outputs": [
    {
     "name": "stdout",
     "output_type": "stream",
     "text": [
      "3\n",
      "5\n"
     ]
    }
   ],
   "source": [
    "\"\"\"\n",
    "You are visiting a farm to collect fruits. The farm has a single row of fruit trees. You will be given two baskets, and your goal is to pick as many fruits as possible to be placed in the given baskets.\n",
    "\n",
    "You will be given an array of characters where each character represents a fruit tree. The farm has following restrictions:\n",
    "\n",
    "    Each basket can have only one type of fruit. There is no limit to how many fruit a basket can hold.\n",
    "    You can start with any tree, but you can’t skip a tree once you have started.\n",
    "    You will pick exactly one fruit from every tree until you cannot, i.e., you will stop when you have to pick from a third fruit type.\n",
    "Write a function to return the maximum number of fruits in both baskets.\n",
    "\"\"\"\n",
    "\"\"\"\n",
    "Input: Fruit=['A', 'B', 'C', 'A', 'C']\n",
    "Output: 3\n",
    "Explanation: We can put 2 'C' in one basket and one 'A' in the other from the subarray ['C', 'A', 'C']\n",
    "\"\"\"\n",
    "\"\"\"\n",
    "In this problem, we need to find the length of the longest subarray with no more than two distinct characters (or fruit types!).\n",
    " This transforms the current problem into Longest Substring with K Distinct Characters where K=2.\n",
    "\n",
    "\"\"\"\n",
    "\"\"\"\n",
    "The outer for loop runs for all characters, and the inner while loop processes each character only once; therefore, the time complexity of the \n",
    "algorithm will be O(N+N), which is asymptotically equivalent to O(N).\n",
    "The algorithm runs in constant space O(1) as there can be a maximum of three types of fruits stored in the frequency map.\n",
    "\"\"\"\n",
    "def fruits_into_baskets(fruits):\n",
    "    window_start = 0\n",
    "    max_length = 0\n",
    "    fruit_frequency = {}\n",
    "\n",
    "    for window_end in range(len(fruits)):\n",
    "        right_fruit = fruits[window_end]\n",
    "        if right_fruit not in fruit_frequency:\n",
    "            fruit_frequency[right_fruit] = 0\n",
    "        fruit_frequency[right_fruit] += 1\n",
    "        \n",
    "        #  if we have more then 2 distint char, we shrink the window and decrease the count in the dict\n",
    "        while len(fruit_frequency) > 2:\n",
    "            left_fruit = fruits[window_start]\n",
    "            fruit_frequency[left_fruit] -= 1\n",
    "            if fruit_frequency[left_fruit] == 0:\n",
    "                del fruit_frequency[left_fruit]\n",
    "            window_start += 1\n",
    "\n",
    "        max_length = max(max_length, window_end - window_start + 1)\n",
    "\n",
    "    return max_length\n",
    "\n",
    "print(fruits_into_baskets(['A', 'B', 'C', 'A', 'C']))\n",
    "print(fruits_into_baskets(['A', 'B', 'C', 'B', 'B', 'C']))\n"
   ]
  },
  {
   "cell_type": "code",
   "execution_count": 81,
   "metadata": {},
   "outputs": [
    {
     "name": "stdout",
     "output_type": "stream",
     "text": [
      "3\n",
      "2\n",
      "3\n"
     ]
    }
   ],
   "source": [
    "\"\"\"\n",
    "Given a string, find the length of the longest substring, which has all distinct characters.\n",
    "\"\"\"\n",
    "\n",
    "\n",
    "\"a a |b c b b\"\n",
    "#0 1 2 3 4 5 6\n",
    "\n",
    "# {a:0,  }\n",
    "\n",
    "\n",
    "def longest_substring_with_all_distinct(str1):\n",
    "  window_start = 0\n",
    "  max_length = 0\n",
    "  char_index_map = {}\n",
    "\n",
    "  # try to extend the range [windowStart, windowEnd]\n",
    "  for window_end in range(len(str1)):\n",
    "    right_char = str1[window_end]\n",
    "    # if the map already contains the 'right_char', shrink the window from the beginning so that\n",
    "    # we have only one occurrence of 'right_char'\n",
    "    if right_char in char_index_map:\n",
    "\n",
    "      # this pushes window start to start a new window(the next occurrence of the character)\n",
    "      window_start = max(window_start, char_index_map[right_char] + 1)\n",
    "    # insert the 'right_char' into the map\n",
    "    char_index_map[right_char] = window_end\n",
    "    # remember the maximum length so far\n",
    "    max_length = max(max_length, window_end - window_start + 1)\n",
    "  return max_length\n",
    "\n",
    "\n",
    "print(longest_substring_with_all_distinct(\"aabccbb\"))\n",
    "print(longest_substring_with_all_distinct(\"abbbb\"))\n",
    "print(longest_substring_with_all_distinct(\"abccde\"))\n",
    "\n",
    "\n",
    "\"\"\"\n",
    "Time = O(N)\n",
    "\n",
    "The algorithm’s space complexity will be O(K), where K is the number of distinct characters in the input string. This also means K<=N, because in the worst case,\n",
    "the whole string might not have any duplicate character, so the entire string will be added to the HashMap. Having said that, since we can expect a fixed set of \n",
    "characters in the input string (e.g., 26 for English letters), we can say that the algorithm runs in fixed space O(1); in this case, we can use a fixed-size array \n",
    "instead of the HashMap.\n",
    "\"\"\""
   ]
  },
  {
   "cell_type": "code",
   "execution_count": null,
   "metadata": {},
   "outputs": [],
   "source": []
  },
  {
   "cell_type": "code",
   "execution_count": 90,
   "metadata": {},
   "outputs": [
    {
     "name": "stdout",
     "output_type": "stream",
     "text": [
      "5\n",
      "4\n",
      "3\n"
     ]
    }
   ],
   "source": [
    "\"\"\"\n",
    "Given a string with lowercase letters only, if you are allowed to replace no more than k letters with any letter, \n",
    "find the length of the longest substring having the same letters after replacement.\n",
    "Input: String=\"aabccbb\", k=2\n",
    "Output: 5\n",
    "Explanation: Replace the two 'c' with 'b' to have the longest repeating substring \"bbbbb\".\n",
    "\"\"\"\n",
    "\n",
    "# Time = O(N) , Space = O(1)\n",
    "def length_of_longest_substring(str1, k):\n",
    "  window_start, max_length, max_repeat_letter_count = 0, 0, 0\n",
    "  frequency_map = {}\n",
    "\n",
    "  # Try to extend the range [window_start, window_end]\n",
    "  for window_end in range(len(str1)):\n",
    "    right_char = str1[window_end]\n",
    "    if right_char not in frequency_map:\n",
    "      frequency_map[right_char] = 0\n",
    "    frequency_map[right_char] += 1\n",
    "    max_repeat_letter_count = max(\n",
    "      max_repeat_letter_count, frequency_map[right_char])\n",
    "\n",
    "    # Current window size is from window_start to window_end, overall we have a letter which is\n",
    "    # repeating 'max_repeat_letter_count' times, this means we can have a window which has one letter\n",
    "    # repeating 'max_repeat_letter_count' times and the remaining letters we should replace.\n",
    "    # if the remaining letters are more than 'k', it is the time to shrink the window as we\n",
    "    # are not allowed to replace more than 'k' letters\n",
    "    if (window_end - window_start + 1 - max_repeat_letter_count) > k:\n",
    "      left_char = str1[window_start]\n",
    "      frequency_map[left_char] -= 1\n",
    "      window_start += 1\n",
    "\n",
    "    max_length = max(max_length, window_end - window_start + 1)\n",
    "  return max_length\n",
    "\n",
    "\n",
    "def main():\n",
    "  print(length_of_longest_substring(\"aabccbb\", 2))\n",
    "  print(length_of_longest_substring(\"abbcb\", 1))\n",
    "  print(length_of_longest_substring(\"abccde\", 1))\n",
    "\n",
    "\n",
    "main()"
   ]
  },
  {
   "cell_type": "code",
   "execution_count": 91,
   "metadata": {},
   "outputs": [
    {
     "name": "stdout",
     "output_type": "stream",
     "text": [
      "6\n",
      "9\n"
     ]
    }
   ],
   "source": [
    "\"\"\"\n",
    "Given an array containing 0s and 1s, if you are allowed to replace no more than ‘k’ 0s with 1s, find the length of the longest contiguous subarray having all 1s.\n",
    "Input: Array=[0, 1, 1, 0, 0, 0, 1, 1, 0, 1, 1], k=2\n",
    "Output: 6\n",
    "Explanation: Replace the '0' at index 5 and 8 to have the longest contiguous subarray of 1s having length 6.\n",
    "\"\"\"\n",
    "# Time = O(N), # Space = O(1)\n",
    "\n",
    "def length_of_longest_substring(arr, k):\n",
    "  window_start, max_length, max_ones_count = 0, 0, 0\n",
    "\n",
    "  # Try to extend the range [window_start, window_end]\n",
    "  for window_end in range(len(arr)):\n",
    "    if arr[window_end] == 1:\n",
    "      max_ones_count += 1\n",
    "\n",
    "    # Current window size is from window_start to window_end, overall we have a maximum of 1s\n",
    "    # repeating 'max_ones_count' times, this means we can have a window with 'max_ones_count' 1s\n",
    "    # and the remaining are 0s which should replace with 1s.\n",
    "    # now, if the remaining 0s are more than 'k', it is the time to shrink the window as we\n",
    "    # are not allowed to replace more than 'k' 0s\n",
    "    if (window_end - window_start + 1 - max_ones_count) > k:\n",
    "      if arr[window_start] == 1:\n",
    "        max_ones_count -= 1\n",
    "      window_start += 1\n",
    "\n",
    "    max_length = max(max_length, window_end - window_start + 1)\n",
    "  return max_length\n",
    "\n",
    "\n",
    "def main():\n",
    "  print(length_of_longest_substring([0, 1, 1, 0, 0, 0, 1, 1, 0, 1, 1], 2))\n",
    "  print(length_of_longest_substring(\n",
    "    [0, 1, 0, 0, 1, 1, 0, 1, 1, 0, 0, 1, 1], 3))\n",
    "\n",
    "\n",
    "main()\n"
   ]
  },
  {
   "cell_type": "code",
   "execution_count": 97,
   "metadata": {},
   "outputs": [
    {
     "name": "stdout",
     "output_type": "stream",
     "text": [
      "3\n",
      "2\n",
      "3\n"
     ]
    }
   ],
   "source": [
    "def longest_substring_with_all_distinct(str1):\n",
    "  window_start = 0\n",
    "  max_length = 0\n",
    "  char_index_map = {}\n",
    "\n",
    "\n",
    "  for window_end in range(len(str1)):\n",
    "    right_char = str1[window_end]\n",
    "\n",
    "    if right_char in char_index_map:\n",
    "      window_start = max(window_start, char_index_map[right_char] + 1)\n",
    "      \n",
    "    char_index_map[right_char] = window_end\n",
    "    max_length = max(max_length, window_end - window_start + 1)\n",
    "  return max_length\n",
    "\n",
    "\n",
    "print(longest_substring_with_all_distinct(\"aabccbb\"))\n",
    "print(longest_substring_with_all_distinct(\"abbbb\"))\n",
    "print(longest_substring_with_all_distinct(\"abccde\"))"
   ]
  },
  {
   "cell_type": "code",
   "execution_count": null,
   "metadata": {},
   "outputs": [],
   "source": []
  }
 ],
 "metadata": {
  "interpreter": {
   "hash": "7e1998ff7f8aa20ada591c520b972326324e5ea05489af9e422744c7c09f6dad"
  },
  "kernelspec": {
   "display_name": "Python 3.10.1 64-bit",
   "language": "python",
   "name": "python3"
  },
  "language_info": {
   "codemirror_mode": {
    "name": "ipython",
    "version": 3
   },
   "file_extension": ".py",
   "mimetype": "text/x-python",
   "name": "python",
   "nbconvert_exporter": "python",
   "pygments_lexer": "ipython3",
   "version": "3.10.1"
  },
  "orig_nbformat": 4
 },
 "nbformat": 4,
 "nbformat_minor": 2
}
