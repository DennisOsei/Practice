{
 "cells": [
  {
   "cell_type": "code",
   "execution_count": 7,
   "metadata": {},
   "outputs": [
    {
     "name": "stdout",
     "output_type": "stream",
     "text": [
      "[17, 20, 26, 31, 44, 54, 55, 77, 93]\n"
     ]
    }
   ],
   "source": [
    "# split list recursively, base case is if len(list) > 1\n",
    "# compare left half to right half till and replace list elements\n",
    "# when there are only left elements\n",
    "# when there are only right elements\n",
    "\n",
    "def merge_sort(a_list):\n",
    "    if len(a_list) > 1:\n",
    "        mid = len(a_list) // 2\n",
    "        left_half = a_list[:mid]\n",
    "        right_half = a_list[mid:]\n",
    "\n",
    "        merge_sort(left_half)\n",
    "        merge_sort(right_half)\n",
    "\n",
    "        i = 0\n",
    "        j = 0\n",
    "        k = 0\n",
    "\n",
    "        while i < len(left_half) and j < len(right_half):\n",
    "            if left_half[i] <= right_half[j]:\n",
    "                a_list[k] = left_half[i]\n",
    "                i += 1\n",
    "                k += 1\n",
    "            else:\n",
    "                a_list[k] = right_half[j]\n",
    "                j += 1\n",
    "                k += 1\n",
    "\n",
    "        while i < len(left_half):\n",
    "            a_list[k] = left_half[i]\n",
    "            i += 1\n",
    "            k += 1\n",
    "\n",
    "        while j < len(right_half):\n",
    "            a_list[k] = right_half[j]\n",
    "            j += 1\n",
    "            k += 1\n",
    "\n",
    "\n",
    "a_list = [54, 26, 93, 17, 77, 31, 44, 55, 20]\n",
    "merge_sort(a_list)\n",
    "print(a_list)"
   ]
  },
  {
   "cell_type": "code",
   "execution_count": 2,
   "metadata": {},
   "outputs": [
    {
     "name": "stdout",
     "output_type": "stream",
     "text": [
      "[17, 20, 26, 31, 44, 54, 55, 77, 93]\n"
     ]
    }
   ],
   "source": [
    "def bubble_sort(a_list):\n",
    "    for i in range(len(a_list)-1, 0, -1):  # reduces the iteration in each pass by 1.\n",
    "        for j in range(i):\n",
    "            if a_list[j] > a_list[j + 1]:   # compare the pairs\n",
    "                a_list[j], a_list[j + 1] = a_list[j + 1], a_list[j]\n",
    "\n",
    "\n",
    "test_list = [54, 26, 93, 17, 77, 31, 44, 55, 20]\n",
    "bubble_sort(test_list)\n",
    "print(test_list)"
   ]
  },
  {
   "cell_type": "code",
   "execution_count": null,
   "metadata": {},
   "outputs": [],
   "source": []
  },
  {
   "cell_type": "code",
   "execution_count": 2,
   "metadata": {},
   "outputs": [
    {
     "name": "stdout",
     "output_type": "stream",
     "text": [
      "[-2, -1, 0, 4, 5, 6, 7]\n",
      "[4, 4, 4, 4, 4, 4, 4]\n",
      "[]\n"
     ]
    }
   ],
   "source": [
    "\"\"\" Merge Two Sorted Lists\n",
    "\n",
    "Given two sorted lists, merge them into one list which should also be sorted\n",
    "\n",
    "Input:\n",
    "list1 = [1,3,4,5]  \n",
    "list2 = [2,6,7,8]\n",
    "\n",
    "Output\n",
    "arr = [1,2,3,4,5,6,7,8]\n",
    "\"\"\"\n",
    "# set the result array\n",
    "# set the indices of all three arrays\n",
    "# while i < left_arr and j < right_arr\n",
    "# while i < left\n",
    "# while j < right\n",
    "#The time complexity for this algorithm is O(n+m) where n and m are the lengths of the lists. \n",
    "#This is because both lists are iterated over at least once.\n",
    "\n",
    "def merge_lists(lst1, lst2):\n",
    "    result = []\n",
    "    for i in range(len(lst1) + len(lst2)):\n",
    "        result.append(i)\n",
    "\n",
    "    i = 0\n",
    "    j = 0\n",
    "    k = 0\n",
    "\n",
    "    while i < len(lst1) and j < len(lst2):\n",
    "        if lst1[i] <= lst2[j]:\n",
    "            result[k] = lst1[i]\n",
    "            i += 1\n",
    "            k += 1\n",
    "        else:\n",
    "            result[k] = lst2[j]\n",
    "            j += 1\n",
    "            k += 1\n",
    "\n",
    "    while i < len(lst1):\n",
    "        result[k] = lst1[i]\n",
    "        i += 1\n",
    "        k += 1\n",
    "\n",
    "    while j < len(lst2):\n",
    "        result[k] = lst2[j]\n",
    "        j += 1\n",
    "        k += 1\n",
    "\n",
    "    return result\n",
    "\n",
    "print(merge_lists([4, 5, 6], [-2, -1, 0, 7]))\n",
    "print(merge_lists([4, 4, 4], [4, 4, 4, 4]))\n",
    "print(merge_lists([], []))\n"
   ]
  },
  {
   "cell_type": "code",
   "execution_count": null,
   "metadata": {},
   "outputs": [],
   "source": []
  }
 ],
 "metadata": {
  "kernelspec": {
   "display_name": "Python 3.10.1 64-bit",
   "language": "python",
   "name": "python3"
  },
  "language_info": {
   "codemirror_mode": {
    "name": "ipython",
    "version": 3
   },
   "file_extension": ".py",
   "mimetype": "text/x-python",
   "name": "python",
   "nbconvert_exporter": "python",
   "pygments_lexer": "ipython3",
   "version": "3.10.1"
  },
  "orig_nbformat": 4,
  "vscode": {
   "interpreter": {
    "hash": "7e1998ff7f8aa20ada591c520b972326324e5ea05489af9e422744c7c09f6dad"
   }
  }
 },
 "nbformat": 4,
 "nbformat_minor": 2
}
