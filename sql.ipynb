{
 "cells": [
  {
   "cell_type": "code",
   "execution_count": null,
   "metadata": {},
   "outputs": [],
   "source": [
    "\"\"\" \n",
    "SELECT column, another_table_column, …\n",
    "FROM mytable\n",
    "INNER JOIN another_table \n",
    "    ON mytable.id = another_table.id\n",
    "WHERE condition(s)\n",
    "ORDER BY column, … ASC/DESC\n",
    "LIMIT num_limit OFFSET num_offset;\n",
    "\n",
    "\"\"\""
   ]
  }
 ],
 "metadata": {
  "language_info": {
   "name": "python"
  },
  "orig_nbformat": 4
 },
 "nbformat": 4,
 "nbformat_minor": 2
}
