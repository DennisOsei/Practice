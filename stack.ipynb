{
 "cells": [
  {
   "cell_type": "code",
   "execution_count": 3,
   "metadata": {},
   "outputs": [
    {
     "name": "stdout",
     "output_type": "stream",
     "text": [
      "True\n",
      "True\n",
      "False\n",
      "False\n"
     ]
    }
   ],
   "source": [
    "\"\"\" Balanced Parenthesis \"\"\"\n",
    "\n",
    "# First we add an ( to a stack, if we get a ) then we remove the ( from the stack \n",
    "# to make the stack empty, if by the end it's empty then it means the parenthesis is balanced.\n",
    "# cases:\n",
    "#     if we are starting with a ) and the stack is empty it means it can't be balanced\n",
    "#\n",
    "\n",
    "\n",
    "def par_checker(sequence):\n",
    "    stack = []\n",
    "    for symbol in sequence:\n",
    "        if symbol == \"(\":\n",
    "            stack.append(symbol)\n",
    "        else:\n",
    "            if stack == []:\n",
    "                return False\n",
    "            else:\n",
    "                stack.pop()\n",
    "\n",
    "    return not bool(stack)\n",
    "\n",
    "print(par_checker(\"((()))\"))  # expected True\n",
    "print(par_checker(\"((()()))\"))  # expected True\n",
    "print(par_checker(\"(()\"))  # expected False\n",
    "print(par_checker(\")(\"))  # expected False"
   ]
  },
  {
   "cell_type": "code",
   "execution_count": null,
   "metadata": {},
   "outputs": [],
   "source": []
  },
  {
   "cell_type": "code",
   "execution_count": 1,
   "metadata": {},
   "outputs": [
    {
     "name": "stdout",
     "output_type": "stream",
     "text": [
      "True\n",
      "False\n",
      "True\n"
     ]
    }
   ],
   "source": [
    "\"\"\" Parenthesis Checker\"\"\"\n",
    "\n",
    "# We will need to add the open symbol; ([{ to the stack\n",
    "# if we get a closed symbol; )]}\n",
    "# check if stack is empty, if it is then we return False\n",
    "# else, we need to check if our current closing, is the same to the element at the top of the stack\n",
    "# we will use a function \"matches\" to check\n",
    "# we will check if the stack is empty in the end\n",
    "\n",
    "def par_checker(sequence):\n",
    "    stack = []\n",
    "    for symbol in sequence:\n",
    "        if symbol in \"([{\":\n",
    "            stack.append(symbol)\n",
    "        else:\n",
    "            if stack == []:\n",
    "                return False\n",
    "            else:\n",
    "                if not matches(stack.pop(), symbol):\n",
    "                    return False\n",
    "\n",
    "    return not bool(stack)\n",
    "\n",
    "def matches(sym_left, sym_right):\n",
    "    all_left = \"([{\"\n",
    "    all_right = \")]}\"\n",
    "    return all_left.index(sym_left) == all_right.index(sym_right)\n",
    "\n",
    "\n",
    "print(par_checker('{({([][])}())}'))\n",
    "print(par_checker('[{()]'))  \n",
    "print(par_checker(\"()\"))     \n",
    "\n"
   ]
  },
  {
   "cell_type": "code",
   "execution_count": 7,
   "metadata": {},
   "outputs": [
    {
     "name": "stdout",
     "output_type": "stream",
     "text": [
      "True\n"
     ]
    }
   ],
   "source": [
    "def reverse_string(string):\n",
    "    stack = []\n",
    "    result = \"\"\n",
    "    for ch in string:\n",
    "        stack.append(ch)\n",
    "    while stack:\n",
    "        result = result + stack.pop()\n",
    "        \n",
    "    return result\n",
    "\n",
    "\n",
    "print(reverse_string(\"apple\") == \"elppa\")"
   ]
  },
  {
   "cell_type": "code",
   "execution_count": 14,
   "metadata": {},
   "outputs": [
    {
     "name": "stdout",
     "output_type": "stream",
     "text": [
      "fox brown quick The\n"
     ]
    }
   ],
   "source": [
    "def reverse_sent(sequence):\n",
    "    words = sequence.split()\n",
    "    solution = \" \".join(reversed(words))\n",
    "    return solution\n",
    "\n",
    "print(reverse_sent(\"The quick brown fox\"))"
   ]
  },
  {
   "cell_type": "code",
   "execution_count": null,
   "metadata": {},
   "outputs": [],
   "source": []
  }
 ],
 "metadata": {
  "interpreter": {
   "hash": "7e1998ff7f8aa20ada591c520b972326324e5ea05489af9e422744c7c09f6dad"
  },
  "kernelspec": {
   "display_name": "Python 3.10.1 64-bit",
   "language": "python",
   "name": "python3"
  },
  "language_info": {
   "codemirror_mode": {
    "name": "ipython",
    "version": 3
   },
   "file_extension": ".py",
   "mimetype": "text/x-python",
   "name": "python",
   "nbconvert_exporter": "python",
   "pygments_lexer": "ipython3",
   "version": "3.10.1"
  },
  "orig_nbformat": 4
 },
 "nbformat": 4,
 "nbformat_minor": 2
}
